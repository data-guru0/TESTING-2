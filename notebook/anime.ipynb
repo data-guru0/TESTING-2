{
 "cells": [
  {
   "cell_type": "code",
   "execution_count": 6,
   "metadata": {
    "_cell_guid": "b1076dfc-b9ad-4769-8c92-a6c4dae69d19",
    "_uuid": "8f2839f25d086af736a60e9eeb907d3b93b6e0e5",
    "execution": {
     "iopub.execute_input": "2025-01-13T11:16:54.397469Z",
     "iopub.status.busy": "2025-01-13T11:16:54.397277Z",
     "iopub.status.idle": "2025-01-13T11:17:02.105353Z",
     "shell.execute_reply": "2025-01-13T11:17:02.104686Z",
     "shell.execute_reply.started": "2025-01-13T11:16:54.397450Z"
    },
    "trusted": true
   },
   "outputs": [],
   "source": [
    "import matplotlib.pyplot as plt\n",
    "import numpy as np\n",
    "import pandas as pd\n",
    "\n",
    "import tensorflow as tf\n",
    "from tensorflow.keras import layers\n",
    "from tensorflow.keras.models import Model\n",
    "from tensorflow.keras.optimizers import Adam\n",
    "from tensorflow.keras.layers import Activation, BatchNormalization, Input, Embedding, Dot,  Dense, Flatten\n",
    "from tensorflow.keras.callbacks import ModelCheckpoint, LearningRateScheduler, TensorBoard, EarlyStopping\n",
    "from wordcloud import WordCloud\n",
    "from collections import defaultdict\n",
    "import matplotlib.pyplot as plt\n",
    "%matplotlib inline"
   ]
  },
  {
   "cell_type": "code",
   "execution_count": 2,
   "metadata": {},
   "outputs": [
    {
     "name": "stdout",
     "output_type": "stream",
     "text": [
      "Collecting wordcloud\n",
      "  Using cached wordcloud-1.9.4-cp312-cp312-win_amd64.whl.metadata (3.5 kB)\n",
      "Requirement already satisfied: numpy>=1.6.1 in d:\\course-testing-2\\venv\\lib\\site-packages (from wordcloud) (2.0.2)\n",
      "Collecting pillow (from wordcloud)\n",
      "  Using cached pillow-11.1.0-cp312-cp312-win_amd64.whl.metadata (9.3 kB)\n",
      "Collecting matplotlib (from wordcloud)\n",
      "  Using cached matplotlib-3.10.0-cp312-cp312-win_amd64.whl.metadata (11 kB)\n",
      "Collecting contourpy>=1.0.1 (from matplotlib->wordcloud)\n",
      "  Using cached contourpy-1.3.1-cp312-cp312-win_amd64.whl.metadata (5.4 kB)\n",
      "Collecting cycler>=0.10 (from matplotlib->wordcloud)\n",
      "  Using cached cycler-0.12.1-py3-none-any.whl.metadata (3.8 kB)\n",
      "Collecting fonttools>=4.22.0 (from matplotlib->wordcloud)\n",
      "  Using cached fonttools-4.55.3-cp312-cp312-win_amd64.whl.metadata (168 kB)\n",
      "Collecting kiwisolver>=1.3.1 (from matplotlib->wordcloud)\n",
      "  Using cached kiwisolver-1.4.8-cp312-cp312-win_amd64.whl.metadata (6.3 kB)\n",
      "Requirement already satisfied: packaging>=20.0 in d:\\course-testing-2\\venv\\lib\\site-packages (from matplotlib->wordcloud) (24.2)\n",
      "Collecting pyparsing>=2.3.1 (from matplotlib->wordcloud)\n",
      "  Using cached pyparsing-3.2.1-py3-none-any.whl.metadata (5.0 kB)\n",
      "Requirement already satisfied: python-dateutil>=2.7 in d:\\course-testing-2\\venv\\lib\\site-packages (from matplotlib->wordcloud) (2.9.0.post0)\n",
      "Requirement already satisfied: six>=1.5 in d:\\course-testing-2\\venv\\lib\\site-packages (from python-dateutil>=2.7->matplotlib->wordcloud) (1.17.0)\n",
      "Using cached wordcloud-1.9.4-cp312-cp312-win_amd64.whl (301 kB)\n",
      "Using cached matplotlib-3.10.0-cp312-cp312-win_amd64.whl (8.0 MB)\n",
      "Using cached pillow-11.1.0-cp312-cp312-win_amd64.whl (2.6 MB)\n",
      "Using cached contourpy-1.3.1-cp312-cp312-win_amd64.whl (220 kB)\n",
      "Using cached cycler-0.12.1-py3-none-any.whl (8.3 kB)\n",
      "Using cached fonttools-4.55.3-cp312-cp312-win_amd64.whl (2.2 MB)\n",
      "Using cached kiwisolver-1.4.8-cp312-cp312-win_amd64.whl (71 kB)\n",
      "Using cached pyparsing-3.2.1-py3-none-any.whl (107 kB)\n",
      "Installing collected packages: pyparsing, pillow, kiwisolver, fonttools, cycler, contourpy, matplotlib, wordcloud\n",
      "Successfully installed contourpy-1.3.1 cycler-0.12.1 fonttools-4.55.3 kiwisolver-1.4.8 matplotlib-3.10.0 pillow-11.1.0 pyparsing-3.2.1 wordcloud-1.9.4\n"
     ]
    },
    {
     "name": "stderr",
     "output_type": "stream",
     "text": [
      "\n",
      "[notice] A new release of pip is available: 24.0 -> 24.3.1\n",
      "[notice] To update, run: python.exe -m pip install --upgrade pip\n"
     ]
    }
   ],
   "source": [
    "!pip install wordcloud"
   ]
  },
  {
   "cell_type": "markdown",
   "metadata": {},
   "source": [
    "### READING ANIMELIST.CSV DATA\n"
   ]
  },
  {
   "cell_type": "code",
   "execution_count": 49,
   "metadata": {},
   "outputs": [],
   "source": [
    "import os"
   ]
  },
  {
   "cell_type": "code",
   "execution_count": 50,
   "metadata": {
    "execution": {
     "iopub.execute_input": "2025-01-13T11:17:42.946441Z",
     "iopub.status.busy": "2025-01-13T11:17:42.946139Z",
     "iopub.status.idle": "2025-01-13T11:17:43.091053Z",
     "shell.execute_reply": "2025-01-13T11:17:43.090032Z",
     "shell.execute_reply.started": "2025-01-13T11:17:42.946419Z"
    },
    "trusted": true
   },
   "outputs": [],
   "source": [
    "INPUT_DIR = os.path.join('..', 'artifacts', 'raw')"
   ]
  },
  {
   "cell_type": "code",
   "execution_count": 51,
   "metadata": {
    "execution": {
     "iopub.execute_input": "2025-01-13T11:17:44.280910Z",
     "iopub.status.busy": "2025-01-13T11:17:44.280562Z",
     "iopub.status.idle": "2025-01-13T11:18:32.798343Z",
     "shell.execute_reply": "2025-01-13T11:18:32.797386Z",
     "shell.execute_reply.started": "2025-01-13T11:17:44.280885Z"
    },
    "trusted": true
   },
   "outputs": [
    {
     "data": {
      "text/html": [
       "<div>\n",
       "<style scoped>\n",
       "    .dataframe tbody tr th:only-of-type {\n",
       "        vertical-align: middle;\n",
       "    }\n",
       "\n",
       "    .dataframe tbody tr th {\n",
       "        vertical-align: top;\n",
       "    }\n",
       "\n",
       "    .dataframe thead th {\n",
       "        text-align: right;\n",
       "    }\n",
       "</style>\n",
       "<table border=\"1\" class=\"dataframe\">\n",
       "  <thead>\n",
       "    <tr style=\"text-align: right;\">\n",
       "      <th></th>\n",
       "      <th>user_id</th>\n",
       "      <th>anime_id</th>\n",
       "      <th>rating</th>\n",
       "    </tr>\n",
       "  </thead>\n",
       "  <tbody>\n",
       "    <tr>\n",
       "      <th>0</th>\n",
       "      <td>0</td>\n",
       "      <td>67</td>\n",
       "      <td>9</td>\n",
       "    </tr>\n",
       "    <tr>\n",
       "      <th>1</th>\n",
       "      <td>0</td>\n",
       "      <td>6702</td>\n",
       "      <td>7</td>\n",
       "    </tr>\n",
       "    <tr>\n",
       "      <th>2</th>\n",
       "      <td>0</td>\n",
       "      <td>242</td>\n",
       "      <td>10</td>\n",
       "    </tr>\n",
       "    <tr>\n",
       "      <th>3</th>\n",
       "      <td>0</td>\n",
       "      <td>4898</td>\n",
       "      <td>0</td>\n",
       "    </tr>\n",
       "  </tbody>\n",
       "</table>\n",
       "</div>"
      ],
      "text/plain": [
       "   user_id  anime_id  rating\n",
       "0        0        67       9\n",
       "1        0      6702       7\n",
       "2        0       242      10\n",
       "3        0      4898       0"
      ]
     },
     "execution_count": 51,
     "metadata": {},
     "output_type": "execute_result"
    }
   ],
   "source": [
    "rating_df = pd.read_csv(INPUT_DIR + '/animelist.csv', low_memory=True,usecols=[\"user_id\", \"anime_id\", \"rating\"])\n",
    "rating_df.head(4)"
   ]
  },
  {
   "cell_type": "code",
   "execution_count": 52,
   "metadata": {
    "execution": {
     "iopub.execute_input": "2025-01-13T11:18:32.799806Z",
     "iopub.status.busy": "2025-01-13T11:18:32.799484Z",
     "iopub.status.idle": "2025-01-13T11:18:32.804911Z",
     "shell.execute_reply": "2025-01-13T11:18:32.803964Z",
     "shell.execute_reply.started": "2025-01-13T11:18:32.799783Z"
    },
    "trusted": true
   },
   "outputs": [
    {
     "data": {
      "text/plain": [
       "5000000"
      ]
     },
     "execution_count": 52,
     "metadata": {},
     "output_type": "execute_result"
    }
   ],
   "source": [
    "len(rating_df)"
   ]
  },
  {
   "cell_type": "markdown",
   "metadata": {},
   "source": [
    "##### Lets talk about columns:\n",
    "1. user_id : unique id given to each user\n",
    "2. anime_id : unique id given to each anime\n",
    "3. rating :score given to that anime by a particular user from 0 to 10"
   ]
  },
  {
   "cell_type": "markdown",
   "metadata": {},
   "source": [
    "### DATA PROCESSING"
   ]
  },
  {
   "cell_type": "markdown",
   "metadata": {},
   "source": [
    "This code filters out users with fewer than 400 ratings to focus on \"active\" users who have rated many anime. It reduces noise in the dataset by excluding infrequent users, which is often useful in recommendation systems or analysis."
   ]
  },
  {
   "cell_type": "code",
   "execution_count": 53,
   "metadata": {
    "execution": {
     "iopub.execute_input": "2025-01-13T11:18:32.806404Z",
     "iopub.status.busy": "2025-01-13T11:18:32.806096Z",
     "iopub.status.idle": "2025-01-13T11:18:36.526192Z",
     "shell.execute_reply": "2025-01-13T11:18:36.525438Z",
     "shell.execute_reply.started": "2025-01-13T11:18:32.806383Z"
    },
    "trusted": true
   },
   "outputs": [
    {
     "data": {
      "text/plain": [
       "3246641"
      ]
     },
     "execution_count": 53,
     "metadata": {},
     "output_type": "execute_result"
    }
   ],
   "source": [
    "n_ratings = rating_df['user_id'].value_counts()\n",
    "rating_df = rating_df[rating_df['user_id'].isin(n_ratings[n_ratings >= 400].index)].copy()\n",
    "len(rating_df)"
   ]
  },
  {
   "cell_type": "markdown",
   "metadata": {},
   "source": [
    "Finds the minimum value in the rating column of the rating_df dataframe.\n",
    "Finds the maximum value in the rating column.\n",
    "Calculates the average (mean) of the rating column.\n",
    "Applies min-max scaling to normalize the rating values between 0 and 1.0.\n",
    "\n",
    "Scaling ratings is important in machine learning tasks like clustering, similarity calculations, or recommendation systems to bring all features to a comparable range.\n",
    "\n",
    "Recalculates the average of the rating column after normalization.\n",
    "\n",
    "The original scale (1-10) is compressed into a 0-1 range.\n",
    "Relationships in data is still preserved"
   ]
  },
  {
   "cell_type": "code",
   "execution_count": 54,
   "metadata": {
    "execution": {
     "iopub.execute_input": "2025-01-13T11:18:38.370047Z",
     "iopub.status.busy": "2025-01-13T11:18:38.369737Z",
     "iopub.status.idle": "2025-01-13T11:19:06.055567Z",
     "shell.execute_reply": "2025-01-13T11:19:06.054521Z",
     "shell.execute_reply.started": "2025-01-13T11:18:38.370027Z"
    },
    "trusted": true
   },
   "outputs": [],
   "source": [
    "# Scaling BTW (0 , 1.0)\n",
    "min_rating = min(rating_df['rating'])\n",
    "max_rating = max(rating_df['rating'])\n",
    "avg_rating = np.mean(rating_df['rating'])\n",
    "rating_df['rating'] = rating_df[\"rating\"].apply(lambda x: (x - min_rating) / (max_rating - min_rating)).values.astype(np.float64)\n",
    "\n",
    "AvgRating = np.mean(rating_df['rating'])"
   ]
  },
  {
   "cell_type": "code",
   "execution_count": 55,
   "metadata": {
    "execution": {
     "iopub.execute_input": "2025-01-13T11:19:06.057038Z",
     "iopub.status.busy": "2025-01-13T11:19:06.056718Z",
     "iopub.status.idle": "2025-01-13T11:19:06.063359Z",
     "shell.execute_reply": "2025-01-13T11:19:06.062558Z",
     "shell.execute_reply.started": "2025-01-13T11:19:06.056940Z"
    },
    "trusted": true
   },
   "outputs": [
    {
     "name": "stdout",
     "output_type": "stream",
     "text": [
      "Max 10\n",
      "Min 0\n",
      "Avg - before scaled 4.122732695114736\n",
      "Avg - after scaled 0.4122732695114729\n"
     ]
    }
   ],
   "source": [
    "print('Max', max_rating)\n",
    "print('Min', min_rating)\n",
    "print('Avg - before scaled', avg_rating)\n",
    "print('Avg - after scaled', AvgRating)"
   ]
  },
  {
   "cell_type": "code",
   "execution_count": 56,
   "metadata": {
    "execution": {
     "iopub.execute_input": "2025-01-13T11:03:45.342663Z",
     "iopub.status.busy": "2025-01-13T11:03:45.342188Z",
     "iopub.status.idle": "2025-01-13T11:04:15.809990Z",
     "shell.execute_reply": "2025-01-13T11:04:15.808863Z",
     "shell.execute_reply.started": "2025-01-13T11:03:45.342624Z"
    },
    "trusted": true
   },
   "outputs": [
    {
     "data": {
      "text/plain": [
       "np.int64(0)"
      ]
     },
     "execution_count": 56,
     "metadata": {},
     "output_type": "execute_result"
    }
   ],
   "source": [
    "#### Removing duplicates\n",
    "\n",
    "rating_df.duplicated().sum()"
   ]
  },
  {
   "cell_type": "markdown",
   "metadata": {},
   "source": [
    "- Extracting unique user IDs from the data.\n",
    "- Mapping each user ID to a unique number (encoding) to convert the user IDs into integers.\n",
    "- Adding this encoding as a new column in the DataFrame.\n",
    "- Counting the total number of unique users."
   ]
  },
  {
   "cell_type": "code",
   "execution_count": 57,
   "metadata": {},
   "outputs": [],
   "source": [
    "user_ids = rating_df[\"user_id\"].unique().tolist()\n",
    "user2user_encoded = {x: i for i, x in enumerate(user_ids)}\n",
    "user2user_decoded = {i: x for i, x in enumerate(user_ids)}\n",
    "rating_df[\"user\"] = rating_df[\"user_id\"].map(user2user_encoded)\n",
    "n_users = len(user2user_encoded)"
   ]
  },
  {
   "cell_type": "markdown",
   "metadata": {},
   "source": []
  },
  {
   "cell_type": "code",
   "execution_count": 58,
   "metadata": {},
   "outputs": [
    {
     "data": {
      "text/plain": [
       "4203"
      ]
     },
     "execution_count": 58,
     "metadata": {},
     "output_type": "execute_result"
    }
   ],
   "source": [
    "n_users               ### We have this much unique users"
   ]
  },
  {
   "cell_type": "markdown",
   "metadata": {},
   "source": [
    "Doing same as we did for users ....\n",
    "\n",
    "- Extracting unique anime IDs from the data.\n",
    "- Mapping each anime ID to a unique number (encoding) to convert the anime IDs into integers.\n",
    "- Adding this encoding as a new column in the DataFrame.\n",
    "- Counting the total number of unique anime IDs."
   ]
  },
  {
   "cell_type": "code",
   "execution_count": 59,
   "metadata": {},
   "outputs": [],
   "source": [
    "anime_ids = rating_df[\"anime_id\"].unique().tolist()\n",
    "anime2anime_encoded = {x: i for i, x in enumerate(anime_ids)}\n",
    "anime2anime_decoded = {i: x for i, x in enumerate(anime_ids)}\n",
    "rating_df[\"anime\"] = rating_df[\"anime_id\"].map(anime2anime_encoded)\n",
    "n_animes = len(anime2anime_encoded)"
   ]
  },
  {
   "cell_type": "code",
   "execution_count": 60,
   "metadata": {},
   "outputs": [
    {
     "data": {
      "text/plain": [
       "17149"
      ]
     },
     "execution_count": 60,
     "metadata": {},
     "output_type": "execute_result"
    }
   ],
   "source": [
    "n_animes                     ## We have this much animes"
   ]
  },
  {
   "cell_type": "markdown",
   "metadata": {},
   "source": [
    "- Shuffling our entire dataset and also dropping previous indexes and giving new indexes\n",
    "-- Why shuffling ?\n",
    "* Generates randomness in data\n",
    "* Prevents data leakage\n",
    "\n",
    "- Splitting into input and output columns for our model"
   ]
  },
  {
   "cell_type": "code",
   "execution_count": 61,
   "metadata": {
    "execution": {
     "iopub.execute_input": "2025-01-13T11:19:15.960118Z",
     "iopub.status.busy": "2025-01-13T11:19:15.959811Z",
     "iopub.status.idle": "2025-01-13T11:19:29.776032Z",
     "shell.execute_reply": "2025-01-13T11:19:29.775049Z",
     "shell.execute_reply.started": "2025-01-13T11:19:15.960095Z"
    },
    "trusted": true
   },
   "outputs": [],
   "source": [
    "rating_df = rating_df.sample(frac=1, random_state=73).reset_index(drop=True)\n",
    "\n",
    "X = rating_df[['user', 'anime']].values\n",
    "y = rating_df[\"rating\"]"
   ]
  },
  {
   "cell_type": "code",
   "execution_count": 62,
   "metadata": {
    "execution": {
     "iopub.execute_input": "2025-01-13T11:19:32.085091Z",
     "iopub.status.busy": "2025-01-13T11:19:32.084787Z",
     "iopub.status.idle": "2025-01-13T11:19:39.675621Z",
     "shell.execute_reply": "2025-01-13T11:19:39.674918Z",
     "shell.execute_reply.started": "2025-01-13T11:19:32.085068Z"
    },
    "trusted": true
   },
   "outputs": [],
   "source": [
    "#### Splitting into training and testing set\n",
    "\n",
    "test_set_size = 1000\n",
    "train_indices = rating_df.shape[0] - test_set_size \n",
    "\n",
    "X_train, X_test, y_train, y_test = (\n",
    "    X[:train_indices],\n",
    "    X[train_indices:],\n",
    "    y[:train_indices],\n",
    "    y[train_indices:],\n",
    ")"
   ]
  },
  {
   "cell_type": "code",
   "execution_count": 63,
   "metadata": {
    "execution": {
     "iopub.execute_input": "2025-01-13T11:19:43.107799Z",
     "iopub.status.busy": "2025-01-13T11:19:43.107430Z",
     "iopub.status.idle": "2025-01-13T11:19:43.113594Z",
     "shell.execute_reply": "2025-01-13T11:19:43.112795Z",
     "shell.execute_reply.started": "2025-01-13T11:19:43.107770Z"
    },
    "trusted": true
   },
   "outputs": [
    {
     "data": {
      "text/plain": [
       "3245641"
      ]
     },
     "execution_count": 63,
     "metadata": {},
     "output_type": "execute_result"
    }
   ],
   "source": [
    "len(X_train)     ## Training data\n"
   ]
  },
  {
   "cell_type": "code",
   "execution_count": 64,
   "metadata": {},
   "outputs": [
    {
     "data": {
      "text/plain": [
       "1000"
      ]
     },
     "execution_count": 64,
     "metadata": {},
     "output_type": "execute_result"
    }
   ],
   "source": [
    "len(X_test)     ## Test data\n"
   ]
  },
  {
   "cell_type": "code",
   "execution_count": 65,
   "metadata": {},
   "outputs": [
    {
     "data": {
      "text/plain": [
       "numpy.ndarray"
      ]
     },
     "execution_count": 65,
     "metadata": {},
     "output_type": "execute_result"
    }
   ],
   "source": [
    "type(X_train)"
   ]
  },
  {
   "cell_type": "markdown",
   "metadata": {},
   "source": [
    "- The code is splitting the X_train and X_test arrays into separate arrays for the user and anime features.\n",
    "- After that, it stores these arrays in lists (X_train_array and X_test_array), so you'll have two separate lists for training and testing data: \n",
    "- one for users and one for anime."
   ]
  },
  {
   "cell_type": "code",
   "execution_count": 66,
   "metadata": {
    "execution": {
     "iopub.execute_input": "2025-01-13T11:19:45.194704Z",
     "iopub.status.busy": "2025-01-13T11:19:45.194378Z",
     "iopub.status.idle": "2025-01-13T11:19:45.198532Z",
     "shell.execute_reply": "2025-01-13T11:19:45.197724Z",
     "shell.execute_reply.started": "2025-01-13T11:19:45.194680Z"
    },
    "trusted": true
   },
   "outputs": [],
   "source": [
    "X_train_array = [X_train[:, 0], X_train[:, 1]]\n",
    "X_test_array = [X_test[:, 0], X_test[:, 1]]"
   ]
  },
  {
   "cell_type": "code",
   "execution_count": 67,
   "metadata": {},
   "outputs": [
    {
     "data": {
      "text/plain": [
       "list"
      ]
     },
     "execution_count": 67,
     "metadata": {},
     "output_type": "execute_result"
    }
   ],
   "source": [
    "type(X_train_array)     #Converted to list that contains two arrays"
   ]
  },
  {
   "cell_type": "markdown",
   "metadata": {},
   "source": [
    "### MODEL ARCHITECTURE"
   ]
  },
  {
   "cell_type": "code",
   "execution_count": 68,
   "metadata": {
    "execution": {
     "iopub.execute_input": "2025-01-13T11:19:47.758944Z",
     "iopub.status.busy": "2025-01-13T11:19:47.758596Z",
     "iopub.status.idle": "2025-01-13T11:19:48.478673Z",
     "shell.execute_reply": "2025-01-13T11:19:48.477237Z",
     "shell.execute_reply.started": "2025-01-13T11:19:47.758919Z"
    },
    "trusted": true
   },
   "outputs": [],
   "source": [
    "def RecommenderNet():\n",
    "    embedding_size = 128\n",
    "    \n",
    "    ### This layer will accept input for user\n",
    "    user = Input(name = 'user', shape = [1])\n",
    "\n",
    "    ### This creates the embedding layer for the user, mapping each user ID to a 128-dimensional vector.\n",
    "    ### Embedding layer converts data into vectors...\n",
    "    user_embedding = Embedding(name = 'user_embedding',\n",
    "                       input_dim = n_users, \n",
    "                       output_dim = embedding_size)(user)\n",
    "    \n",
    "    ### This layer will accept input for anime\n",
    "    anime = Input(name = 'anime', shape = [1])\n",
    "\n",
    "    ### This creates the embedding layer for the anime, mapping each anime ID to a 128-dimensional vector.\n",
    "    anime_embedding = Embedding(name = 'anime_embedding',\n",
    "                       input_dim = n_animes, \n",
    "                       output_dim = embedding_size)(anime)\n",
    "    \n",
    "    ### This calculates the dot product (similarity) between the user and anime embeddings.\n",
    "    ## The dot product measures how similar the two vectors are. We have to normalize data also..\n",
    "\n",
    "    x = Dot(name = 'dot_product', normalize = True, axes = 2)([user_embedding, anime_embedding])\n",
    "\n",
    "    ## The output of the dot product is reshaped into a one-dimensional array\n",
    "    x = Flatten()(x)\n",
    "        \n",
    "    ## This is a fully connected (dense) layer that outputs a single value\n",
    "    ## This layer normalizes the output from the previous layer\n",
    "    ## This applies the sigmoid activation function, which outputs a value between 0 and 1\n",
    "    x = Dense(1, kernel_initializer='he_normal')(x)\n",
    "    x = BatchNormalization()(x)\n",
    "    x = Activation(\"sigmoid\")(x)\n",
    "    \n",
    "\n",
    "    ### Make and compile the model and return it \n",
    "    model = Model(inputs=[user, anime], outputs=x)\n",
    "    model.compile(loss='binary_crossentropy', metrics=[\"mae\", \"mse\"], optimizer='Adam')\n",
    "    \n",
    "    return model"
   ]
  },
  {
   "cell_type": "code",
   "execution_count": 69,
   "metadata": {},
   "outputs": [],
   "source": [
    "### Initialize the model\n",
    "\n",
    "model = RecommenderNet()"
   ]
  },
  {
   "cell_type": "code",
   "execution_count": 70,
   "metadata": {
    "execution": {
     "iopub.execute_input": "2025-01-13T11:19:48.969146Z",
     "iopub.status.busy": "2025-01-13T11:19:48.968836Z",
     "iopub.status.idle": "2025-01-13T11:19:48.991713Z",
     "shell.execute_reply": "2025-01-13T11:19:48.991028Z",
     "shell.execute_reply.started": "2025-01-13T11:19:48.969124Z"
    },
    "trusted": true
   },
   "outputs": [
    {
     "data": {
      "text/html": [
       "<pre style=\"white-space:pre;overflow-x:auto;line-height:normal;font-family:Menlo,'DejaVu Sans Mono',consolas,'Courier New',monospace\"><span style=\"font-weight: bold\">Model: \"functional_1\"</span>\n",
       "</pre>\n"
      ],
      "text/plain": [
       "\u001b[1mModel: \"functional_1\"\u001b[0m\n"
      ]
     },
     "metadata": {},
     "output_type": "display_data"
    },
    {
     "data": {
      "text/html": [
       "<pre style=\"white-space:pre;overflow-x:auto;line-height:normal;font-family:Menlo,'DejaVu Sans Mono',consolas,'Courier New',monospace\">┏━━━━━━━━━━━━━━━━━━━━━┳━━━━━━━━━━━━━━━━━━━┳━━━━━━━━━━━━┳━━━━━━━━━━━━━━━━━━━┓\n",
       "┃<span style=\"font-weight: bold\"> Layer (type)        </span>┃<span style=\"font-weight: bold\"> Output Shape      </span>┃<span style=\"font-weight: bold\">    Param # </span>┃<span style=\"font-weight: bold\"> Connected to      </span>┃\n",
       "┡━━━━━━━━━━━━━━━━━━━━━╇━━━━━━━━━━━━━━━━━━━╇━━━━━━━━━━━━╇━━━━━━━━━━━━━━━━━━━┩\n",
       "│ user (<span style=\"color: #0087ff; text-decoration-color: #0087ff\">InputLayer</span>)   │ (<span style=\"color: #00d7ff; text-decoration-color: #00d7ff\">None</span>, <span style=\"color: #00af00; text-decoration-color: #00af00\">1</span>)         │          <span style=\"color: #00af00; text-decoration-color: #00af00\">0</span> │ -                 │\n",
       "├─────────────────────┼───────────────────┼────────────┼───────────────────┤\n",
       "│ anime (<span style=\"color: #0087ff; text-decoration-color: #0087ff\">InputLayer</span>)  │ (<span style=\"color: #00d7ff; text-decoration-color: #00d7ff\">None</span>, <span style=\"color: #00af00; text-decoration-color: #00af00\">1</span>)         │          <span style=\"color: #00af00; text-decoration-color: #00af00\">0</span> │ -                 │\n",
       "├─────────────────────┼───────────────────┼────────────┼───────────────────┤\n",
       "│ user_embedding      │ (<span style=\"color: #00d7ff; text-decoration-color: #00d7ff\">None</span>, <span style=\"color: #00af00; text-decoration-color: #00af00\">1</span>, <span style=\"color: #00af00; text-decoration-color: #00af00\">128</span>)    │    <span style=\"color: #00af00; text-decoration-color: #00af00\">537,984</span> │ user[<span style=\"color: #00af00; text-decoration-color: #00af00\">0</span>][<span style=\"color: #00af00; text-decoration-color: #00af00\">0</span>]        │\n",
       "│ (<span style=\"color: #0087ff; text-decoration-color: #0087ff\">Embedding</span>)         │                   │            │                   │\n",
       "├─────────────────────┼───────────────────┼────────────┼───────────────────┤\n",
       "│ anime_embedding     │ (<span style=\"color: #00d7ff; text-decoration-color: #00d7ff\">None</span>, <span style=\"color: #00af00; text-decoration-color: #00af00\">1</span>, <span style=\"color: #00af00; text-decoration-color: #00af00\">128</span>)    │  <span style=\"color: #00af00; text-decoration-color: #00af00\">2,195,072</span> │ anime[<span style=\"color: #00af00; text-decoration-color: #00af00\">0</span>][<span style=\"color: #00af00; text-decoration-color: #00af00\">0</span>]       │\n",
       "│ (<span style=\"color: #0087ff; text-decoration-color: #0087ff\">Embedding</span>)         │                   │            │                   │\n",
       "├─────────────────────┼───────────────────┼────────────┼───────────────────┤\n",
       "│ dot_product (<span style=\"color: #0087ff; text-decoration-color: #0087ff\">Dot</span>)   │ (<span style=\"color: #00d7ff; text-decoration-color: #00d7ff\">None</span>, <span style=\"color: #00af00; text-decoration-color: #00af00\">1</span>, <span style=\"color: #00af00; text-decoration-color: #00af00\">1</span>)      │          <span style=\"color: #00af00; text-decoration-color: #00af00\">0</span> │ user_embedding[<span style=\"color: #00af00; text-decoration-color: #00af00\">0</span>… │\n",
       "│                     │                   │            │ anime_embedding[<span style=\"color: #00af00; text-decoration-color: #00af00\">…</span> │\n",
       "├─────────────────────┼───────────────────┼────────────┼───────────────────┤\n",
       "│ flatten_1 (<span style=\"color: #0087ff; text-decoration-color: #0087ff\">Flatten</span>) │ (<span style=\"color: #00d7ff; text-decoration-color: #00d7ff\">None</span>, <span style=\"color: #00af00; text-decoration-color: #00af00\">1</span>)         │          <span style=\"color: #00af00; text-decoration-color: #00af00\">0</span> │ dot_product[<span style=\"color: #00af00; text-decoration-color: #00af00\">0</span>][<span style=\"color: #00af00; text-decoration-color: #00af00\">0</span>] │\n",
       "├─────────────────────┼───────────────────┼────────────┼───────────────────┤\n",
       "│ dense_1 (<span style=\"color: #0087ff; text-decoration-color: #0087ff\">Dense</span>)     │ (<span style=\"color: #00d7ff; text-decoration-color: #00d7ff\">None</span>, <span style=\"color: #00af00; text-decoration-color: #00af00\">1</span>)         │          <span style=\"color: #00af00; text-decoration-color: #00af00\">2</span> │ flatten_1[<span style=\"color: #00af00; text-decoration-color: #00af00\">0</span>][<span style=\"color: #00af00; text-decoration-color: #00af00\">0</span>]   │\n",
       "├─────────────────────┼───────────────────┼────────────┼───────────────────┤\n",
       "│ batch_normalizatio… │ (<span style=\"color: #00d7ff; text-decoration-color: #00d7ff\">None</span>, <span style=\"color: #00af00; text-decoration-color: #00af00\">1</span>)         │          <span style=\"color: #00af00; text-decoration-color: #00af00\">4</span> │ dense_1[<span style=\"color: #00af00; text-decoration-color: #00af00\">0</span>][<span style=\"color: #00af00; text-decoration-color: #00af00\">0</span>]     │\n",
       "│ (<span style=\"color: #0087ff; text-decoration-color: #0087ff\">BatchNormalizatio…</span> │                   │            │                   │\n",
       "├─────────────────────┼───────────────────┼────────────┼───────────────────┤\n",
       "│ activation_1        │ (<span style=\"color: #00d7ff; text-decoration-color: #00d7ff\">None</span>, <span style=\"color: #00af00; text-decoration-color: #00af00\">1</span>)         │          <span style=\"color: #00af00; text-decoration-color: #00af00\">0</span> │ batch_normalizat… │\n",
       "│ (<span style=\"color: #0087ff; text-decoration-color: #0087ff\">Activation</span>)        │                   │            │                   │\n",
       "└─────────────────────┴───────────────────┴────────────┴───────────────────┘\n",
       "</pre>\n"
      ],
      "text/plain": [
       "┏━━━━━━━━━━━━━━━━━━━━━┳━━━━━━━━━━━━━━━━━━━┳━━━━━━━━━━━━┳━━━━━━━━━━━━━━━━━━━┓\n",
       "┃\u001b[1m \u001b[0m\u001b[1mLayer (type)       \u001b[0m\u001b[1m \u001b[0m┃\u001b[1m \u001b[0m\u001b[1mOutput Shape     \u001b[0m\u001b[1m \u001b[0m┃\u001b[1m \u001b[0m\u001b[1m   Param #\u001b[0m\u001b[1m \u001b[0m┃\u001b[1m \u001b[0m\u001b[1mConnected to     \u001b[0m\u001b[1m \u001b[0m┃\n",
       "┡━━━━━━━━━━━━━━━━━━━━━╇━━━━━━━━━━━━━━━━━━━╇━━━━━━━━━━━━╇━━━━━━━━━━━━━━━━━━━┩\n",
       "│ user (\u001b[38;5;33mInputLayer\u001b[0m)   │ (\u001b[38;5;45mNone\u001b[0m, \u001b[38;5;34m1\u001b[0m)         │          \u001b[38;5;34m0\u001b[0m │ -                 │\n",
       "├─────────────────────┼───────────────────┼────────────┼───────────────────┤\n",
       "│ anime (\u001b[38;5;33mInputLayer\u001b[0m)  │ (\u001b[38;5;45mNone\u001b[0m, \u001b[38;5;34m1\u001b[0m)         │          \u001b[38;5;34m0\u001b[0m │ -                 │\n",
       "├─────────────────────┼───────────────────┼────────────┼───────────────────┤\n",
       "│ user_embedding      │ (\u001b[38;5;45mNone\u001b[0m, \u001b[38;5;34m1\u001b[0m, \u001b[38;5;34m128\u001b[0m)    │    \u001b[38;5;34m537,984\u001b[0m │ user[\u001b[38;5;34m0\u001b[0m][\u001b[38;5;34m0\u001b[0m]        │\n",
       "│ (\u001b[38;5;33mEmbedding\u001b[0m)         │                   │            │                   │\n",
       "├─────────────────────┼───────────────────┼────────────┼───────────────────┤\n",
       "│ anime_embedding     │ (\u001b[38;5;45mNone\u001b[0m, \u001b[38;5;34m1\u001b[0m, \u001b[38;5;34m128\u001b[0m)    │  \u001b[38;5;34m2,195,072\u001b[0m │ anime[\u001b[38;5;34m0\u001b[0m][\u001b[38;5;34m0\u001b[0m]       │\n",
       "│ (\u001b[38;5;33mEmbedding\u001b[0m)         │                   │            │                   │\n",
       "├─────────────────────┼───────────────────┼────────────┼───────────────────┤\n",
       "│ dot_product (\u001b[38;5;33mDot\u001b[0m)   │ (\u001b[38;5;45mNone\u001b[0m, \u001b[38;5;34m1\u001b[0m, \u001b[38;5;34m1\u001b[0m)      │          \u001b[38;5;34m0\u001b[0m │ user_embedding[\u001b[38;5;34m0\u001b[0m… │\n",
       "│                     │                   │            │ anime_embedding[\u001b[38;5;34m…\u001b[0m │\n",
       "├─────────────────────┼───────────────────┼────────────┼───────────────────┤\n",
       "│ flatten_1 (\u001b[38;5;33mFlatten\u001b[0m) │ (\u001b[38;5;45mNone\u001b[0m, \u001b[38;5;34m1\u001b[0m)         │          \u001b[38;5;34m0\u001b[0m │ dot_product[\u001b[38;5;34m0\u001b[0m][\u001b[38;5;34m0\u001b[0m] │\n",
       "├─────────────────────┼───────────────────┼────────────┼───────────────────┤\n",
       "│ dense_1 (\u001b[38;5;33mDense\u001b[0m)     │ (\u001b[38;5;45mNone\u001b[0m, \u001b[38;5;34m1\u001b[0m)         │          \u001b[38;5;34m2\u001b[0m │ flatten_1[\u001b[38;5;34m0\u001b[0m][\u001b[38;5;34m0\u001b[0m]   │\n",
       "├─────────────────────┼───────────────────┼────────────┼───────────────────┤\n",
       "│ batch_normalizatio… │ (\u001b[38;5;45mNone\u001b[0m, \u001b[38;5;34m1\u001b[0m)         │          \u001b[38;5;34m4\u001b[0m │ dense_1[\u001b[38;5;34m0\u001b[0m][\u001b[38;5;34m0\u001b[0m]     │\n",
       "│ (\u001b[38;5;33mBatchNormalizatio…\u001b[0m │                   │            │                   │\n",
       "├─────────────────────┼───────────────────┼────────────┼───────────────────┤\n",
       "│ activation_1        │ (\u001b[38;5;45mNone\u001b[0m, \u001b[38;5;34m1\u001b[0m)         │          \u001b[38;5;34m0\u001b[0m │ batch_normalizat… │\n",
       "│ (\u001b[38;5;33mActivation\u001b[0m)        │                   │            │                   │\n",
       "└─────────────────────┴───────────────────┴────────────┴───────────────────┘\n"
      ]
     },
     "metadata": {},
     "output_type": "display_data"
    },
    {
     "data": {
      "text/html": [
       "<pre style=\"white-space:pre;overflow-x:auto;line-height:normal;font-family:Menlo,'DejaVu Sans Mono',consolas,'Courier New',monospace\"><span style=\"font-weight: bold\"> Total params: </span><span style=\"color: #00af00; text-decoration-color: #00af00\">2,733,062</span> (10.43 MB)\n",
       "</pre>\n"
      ],
      "text/plain": [
       "\u001b[1m Total params: \u001b[0m\u001b[38;5;34m2,733,062\u001b[0m (10.43 MB)\n"
      ]
     },
     "metadata": {},
     "output_type": "display_data"
    },
    {
     "data": {
      "text/html": [
       "<pre style=\"white-space:pre;overflow-x:auto;line-height:normal;font-family:Menlo,'DejaVu Sans Mono',consolas,'Courier New',monospace\"><span style=\"font-weight: bold\"> Trainable params: </span><span style=\"color: #00af00; text-decoration-color: #00af00\">2,733,060</span> (10.43 MB)\n",
       "</pre>\n"
      ],
      "text/plain": [
       "\u001b[1m Trainable params: \u001b[0m\u001b[38;5;34m2,733,060\u001b[0m (10.43 MB)\n"
      ]
     },
     "metadata": {},
     "output_type": "display_data"
    },
    {
     "data": {
      "text/html": [
       "<pre style=\"white-space:pre;overflow-x:auto;line-height:normal;font-family:Menlo,'DejaVu Sans Mono',consolas,'Courier New',monospace\"><span style=\"font-weight: bold\"> Non-trainable params: </span><span style=\"color: #00af00; text-decoration-color: #00af00\">2</span> (8.00 B)\n",
       "</pre>\n"
      ],
      "text/plain": [
       "\u001b[1m Non-trainable params: \u001b[0m\u001b[38;5;34m2\u001b[0m (8.00 B)\n"
      ]
     },
     "metadata": {},
     "output_type": "display_data"
    }
   ],
   "source": [
    "model.summary()"
   ]
  },
  {
   "cell_type": "markdown",
   "metadata": {},
   "source": [
    "-  Callbacks are functions or actions that are triggered during the training process, such as adjusting the learning rate or saving the model weights\n",
    "\n",
    "\n",
    "In short here we will list paramters for our model training"
   ]
  },
  {
   "cell_type": "code",
   "execution_count": 71,
   "metadata": {
    "execution": {
     "iopub.execute_input": "2025-01-13T11:19:52.413160Z",
     "iopub.status.busy": "2025-01-13T11:19:52.412847Z",
     "iopub.status.idle": "2025-01-13T11:19:52.419197Z",
     "shell.execute_reply": "2025-01-13T11:19:52.418140Z",
     "shell.execute_reply.started": "2025-01-13T11:19:52.413135Z"
    },
    "trusted": true
   },
   "outputs": [],
   "source": [
    "\n",
    "start_lr = 0.00001\n",
    "min_lr = 0.00001\n",
    "max_lr = 0.00005\n",
    "batch_size = 10000\n",
    "\n",
    "rampup_epochs = 5\n",
    "sustain_epochs = 0\n",
    "exp_decay = .8\n",
    "\n",
    "def lrfn(epoch):\n",
    "    if epoch < rampup_epochs:\n",
    "        return (max_lr - start_lr)/rampup_epochs * epoch + start_lr\n",
    "    elif epoch < rampup_epochs + sustain_epochs:\n",
    "        return max_lr\n",
    "    else:\n",
    "        return (max_lr - min_lr) * exp_decay**(epoch-rampup_epochs-sustain_epochs) + min_lr\n",
    "\n",
    "\n",
    "lr_callback = LearningRateScheduler(lambda epoch: lrfn(epoch), verbose=0)\n",
    "\n",
    "checkpoint_filepath = './weights.weights.h5'\n",
    "\n",
    "model_checkpoints = ModelCheckpoint(filepath=checkpoint_filepath,\n",
    "                                        save_weights_only=True,\n",
    "                                        monitor='val_loss',\n",
    "                                        mode='min',\n",
    "                                        save_best_only=True)\n",
    "\n",
    "early_stopping = EarlyStopping(patience = 3, monitor='val_loss', \n",
    "                               mode='min', restore_best_weights=True)\n",
    "\n",
    "my_callbacks = [\n",
    "    model_checkpoints,\n",
    "    lr_callback,\n",
    "    early_stopping,   \n",
    "]"
   ]
  },
  {
   "cell_type": "code",
   "execution_count": 72,
   "metadata": {
    "execution": {
     "iopub.execute_input": "2025-01-13T11:19:59.342365Z",
     "iopub.status.busy": "2025-01-13T11:19:59.342038Z",
     "iopub.status.idle": "2025-01-13T11:23:53.867359Z",
     "shell.execute_reply": "2025-01-13T11:23:53.866393Z",
     "shell.execute_reply.started": "2025-01-13T11:19:59.342342Z"
    },
    "trusted": true
   },
   "outputs": [
    {
     "name": "stdout",
     "output_type": "stream",
     "text": [
      "Epoch 1/20\n",
      "\u001b[1m325/325\u001b[0m \u001b[32m━━━━━━━━━━━━━━━━━━━━\u001b[0m\u001b[37m\u001b[0m \u001b[1m14s\u001b[0m 37ms/step - loss: 0.7975 - mae: 0.3815 - mse: 0.1964 - val_loss: 0.7268 - val_mae: 0.3738 - val_mse: 0.1741 - learning_rate: 1.0000e-05\n",
      "Epoch 2/20\n",
      "\u001b[1m325/325\u001b[0m \u001b[32m━━━━━━━━━━━━━━━━━━━━\u001b[0m\u001b[37m\u001b[0m \u001b[1m12s\u001b[0m 36ms/step - loss: 0.7945 - mae: 0.3804 - mse: 0.1952 - val_loss: 0.7948 - val_mae: 0.3871 - val_mse: 0.1998 - learning_rate: 1.8000e-05\n",
      "Epoch 3/20\n",
      "\u001b[1m325/325\u001b[0m \u001b[32m━━━━━━━━━━━━━━━━━━━━\u001b[0m\u001b[37m\u001b[0m \u001b[1m12s\u001b[0m 36ms/step - loss: 0.7892 - mae: 0.3784 - mse: 0.1930 - val_loss: 0.8018 - val_mae: 0.3883 - val_mse: 0.2020 - learning_rate: 2.6000e-05\n",
      "Epoch 4/20\n",
      "\u001b[1m325/325\u001b[0m \u001b[32m━━━━━━━━━━━━━━━━━━━━\u001b[0m\u001b[37m\u001b[0m \u001b[1m12s\u001b[0m 37ms/step - loss: 0.7807 - mae: 0.3750 - mse: 0.1896 - val_loss: 0.7983 - val_mae: 0.3875 - val_mse: 0.2007 - learning_rate: 3.4000e-05\n"
     ]
    }
   ],
   "source": [
    "# Model training\n",
    "history = model.fit(\n",
    "    x=X_train_array,\n",
    "    y=y_train,\n",
    "    batch_size=batch_size,\n",
    "    epochs=20,\n",
    "    verbose=1,\n",
    "    validation_data=(X_test_array, y_test),\n",
    "    callbacks=my_callbacks\n",
    ")\n",
    "\n",
    "model.load_weights(checkpoint_filepath)"
   ]
  },
  {
   "cell_type": "code",
   "execution_count": 73,
   "metadata": {
    "execution": {
     "iopub.execute_input": "2025-01-13T11:25:29.939847Z",
     "iopub.status.busy": "2025-01-13T11:25:29.939435Z",
     "iopub.status.idle": "2025-01-13T11:25:30.730599Z",
     "shell.execute_reply": "2025-01-13T11:25:30.729586Z",
     "shell.execute_reply.started": "2025-01-13T11:25:29.939817Z"
    },
    "trusted": true
   },
   "outputs": [
    {
     "data": {
      "image/png": "[encoded data removed]",
      "text/plain": [
       "<Figure size 800x1200 with 3 Axes>"
      ]
     },
     "metadata": {},
     "output_type": "display_data"
    }
   ],
   "source": [
    "##### Model Training Result Metrics\n",
    "# List of metrics to plot\n",
    "metrics = [\"loss\", \"mae\", \"mse\"]\n",
    "\n",
    "# Create subplots\n",
    "fig, axes = plt.subplots(len(metrics), 1, figsize=(8, len(metrics) * 4))\n",
    "\n",
    "for i, metric in enumerate(metrics):\n",
    "    ax = axes[i]\n",
    "    ax.plot(history.history[metric][0:-2], marker=\"o\", label=f\"train {metric}\")\n",
    "    ax.plot(history.history[f\"val_{metric}\"][0:-2], marker=\"o\", label=f\"test {metric}\")\n",
    "    ax.set_title(f\"Model {metric.capitalize()}\")\n",
    "    ax.set_ylabel(metric.capitalize())\n",
    "    ax.set_xlabel(\"Epoch\")\n",
    "    ax.legend(loc=\"upper left\")\n",
    "    ax.grid(True)\n",
    "\n",
    "plt.tight_layout()\n",
    "plt.show()"
   ]
  },
  {
   "cell_type": "markdown",
   "metadata": {},
   "source": [
    "Extracting the weights (embeddings) from the model helps you to capture the learned representations of users and animes."
   ]
  },
  {
   "cell_type": "code",
   "execution_count": 74,
   "metadata": {
    "execution": {
     "iopub.execute_input": "2025-01-13T11:26:03.733197Z",
     "iopub.status.busy": "2025-01-13T11:26:03.732793Z",
     "iopub.status.idle": "2025-01-13T11:26:03.855309Z",
     "shell.execute_reply": "2025-01-13T11:26:03.854293Z",
     "shell.execute_reply.started": "2025-01-13T11:26:03.733167Z"
    },
    "trusted": true
   },
   "outputs": [],
   "source": [
    "### Extract weights fro model\n",
    "def extract_weights(name, model):\n",
    "    weight_layer = model.get_layer(name)\n",
    "    weights = weight_layer.get_weights()[0]\n",
    "    weights = weights / np.linalg.norm(weights, axis = 1).reshape((-1, 1))\n",
    "    return weights\n",
    "\n",
    "anime_weights = extract_weights('anime_embedding', model)\n",
    "user_weights = extract_weights('user_embedding', model)"
   ]
  },
  {
   "cell_type": "markdown",
   "metadata": {},
   "source": [
    "### READING ANIME.CSV"
   ]
  },
  {
   "cell_type": "code",
   "execution_count": 75,
   "metadata": {
    "execution": {
     "iopub.execute_input": "2025-01-13T11:27:59.933659Z",
     "iopub.status.busy": "2025-01-13T11:27:59.933240Z",
     "iopub.status.idle": "2025-01-13T11:28:00.219407Z",
     "shell.execute_reply": "2025-01-13T11:28:00.218709Z",
     "shell.execute_reply.started": "2025-01-13T11:27:59.933615Z"
    },
    "trusted": true
   },
   "outputs": [],
   "source": [
    "df = pd.read_csv(INPUT_DIR + '/anime.csv', low_memory=True)\n"
   ]
  },
  {
   "cell_type": "code",
   "execution_count": 76,
   "metadata": {},
   "outputs": [
    {
     "data": {
      "text/html": [
       "<div>\n",
       "<style scoped>\n",
       "    .dataframe tbody tr th:only-of-type {\n",
       "        vertical-align: middle;\n",
       "    }\n",
       "\n",
       "    .dataframe tbody tr th {\n",
       "        vertical-align: top;\n",
       "    }\n",
       "\n",
       "    .dataframe thead th {\n",
       "        text-align: right;\n",
       "    }\n",
       "</style>\n",
       "<table border=\"1\" class=\"dataframe\">\n",
       "  <thead>\n",
       "    <tr style=\"text-align: right;\">\n",
       "      <th></th>\n",
       "      <th>MAL_ID</th>\n",
       "      <th>Name</th>\n",
       "      <th>Score</th>\n",
       "      <th>Genres</th>\n",
       "      <th>English name</th>\n",
       "      <th>Japanese name</th>\n",
       "      <th>Type</th>\n",
       "      <th>Episodes</th>\n",
       "      <th>Aired</th>\n",
       "      <th>Premiered</th>\n",
       "      <th>...</th>\n",
       "      <th>Score-10</th>\n",
       "      <th>Score-9</th>\n",
       "      <th>Score-8</th>\n",
       "      <th>Score-7</th>\n",
       "      <th>Score-6</th>\n",
       "      <th>Score-5</th>\n",
       "      <th>Score-4</th>\n",
       "      <th>Score-3</th>\n",
       "      <th>Score-2</th>\n",
       "      <th>Score-1</th>\n",
       "    </tr>\n",
       "  </thead>\n",
       "  <tbody>\n",
       "    <tr>\n",
       "      <th>0</th>\n",
       "      <td>1</td>\n",
       "      <td>Cowboy Bebop</td>\n",
       "      <td>8.78</td>\n",
       "      <td>Action, Adventure, Comedy, Drama, Sci-Fi, Space</td>\n",
       "      <td>Cowboy Bebop</td>\n",
       "      <td>カウボーイビバップ</td>\n",
       "      <td>TV</td>\n",
       "      <td>26</td>\n",
       "      <td>Apr 3, 1998 to Apr 24, 1999</td>\n",
       "      <td>Spring 1998</td>\n",
       "      <td>...</td>\n",
       "      <td>229170.0</td>\n",
       "      <td>182126.0</td>\n",
       "      <td>131625.0</td>\n",
       "      <td>62330.0</td>\n",
       "      <td>20688.0</td>\n",
       "      <td>8904.0</td>\n",
       "      <td>3184.0</td>\n",
       "      <td>1357.0</td>\n",
       "      <td>741.0</td>\n",
       "      <td>1580.0</td>\n",
       "    </tr>\n",
       "    <tr>\n",
       "      <th>1</th>\n",
       "      <td>5</td>\n",
       "      <td>Cowboy Bebop: Tengoku no Tobira</td>\n",
       "      <td>8.39</td>\n",
       "      <td>Action, Drama, Mystery, Sci-Fi, Space</td>\n",
       "      <td>Cowboy Bebop:The Movie</td>\n",
       "      <td>カウボーイビバップ 天国の扉</td>\n",
       "      <td>Movie</td>\n",
       "      <td>1</td>\n",
       "      <td>Sep 1, 2001</td>\n",
       "      <td>Unknown</td>\n",
       "      <td>...</td>\n",
       "      <td>30043.0</td>\n",
       "      <td>49201.0</td>\n",
       "      <td>49505.0</td>\n",
       "      <td>22632.0</td>\n",
       "      <td>5805.0</td>\n",
       "      <td>1877.0</td>\n",
       "      <td>577.0</td>\n",
       "      <td>221.0</td>\n",
       "      <td>109.0</td>\n",
       "      <td>379.0</td>\n",
       "    </tr>\n",
       "    <tr>\n",
       "      <th>2</th>\n",
       "      <td>6</td>\n",
       "      <td>Trigun</td>\n",
       "      <td>8.24</td>\n",
       "      <td>Action, Sci-Fi, Adventure, Comedy, Drama, Shounen</td>\n",
       "      <td>Trigun</td>\n",
       "      <td>トライガン</td>\n",
       "      <td>TV</td>\n",
       "      <td>26</td>\n",
       "      <td>Apr 1, 1998 to Sep 30, 1998</td>\n",
       "      <td>Spring 1998</td>\n",
       "      <td>...</td>\n",
       "      <td>50229.0</td>\n",
       "      <td>75651.0</td>\n",
       "      <td>86142.0</td>\n",
       "      <td>49432.0</td>\n",
       "      <td>15376.0</td>\n",
       "      <td>5838.0</td>\n",
       "      <td>1965.0</td>\n",
       "      <td>664.0</td>\n",
       "      <td>316.0</td>\n",
       "      <td>533.0</td>\n",
       "    </tr>\n",
       "    <tr>\n",
       "      <th>3</th>\n",
       "      <td>7</td>\n",
       "      <td>Witch Hunter Robin</td>\n",
       "      <td>7.27</td>\n",
       "      <td>Action, Mystery, Police, Supernatural, Drama, Magic</td>\n",
       "      <td>Witch Hunter Robin</td>\n",
       "      <td>Witch Hunter ROBIN (ウイッチハンターロビン)</td>\n",
       "      <td>TV</td>\n",
       "      <td>26</td>\n",
       "      <td>Jul 2, 2002 to Dec 24, 2002</td>\n",
       "      <td>Summer 2002</td>\n",
       "      <td>...</td>\n",
       "      <td>2182.0</td>\n",
       "      <td>4806.0</td>\n",
       "      <td>10128.0</td>\n",
       "      <td>11618.0</td>\n",
       "      <td>5709.0</td>\n",
       "      <td>2920.0</td>\n",
       "      <td>1083.0</td>\n",
       "      <td>353.0</td>\n",
       "      <td>164.0</td>\n",
       "      <td>131.0</td>\n",
       "    </tr>\n",
       "    <tr>\n",
       "      <th>4</th>\n",
       "      <td>8</td>\n",
       "      <td>Bouken Ou Beet</td>\n",
       "      <td>6.98</td>\n",
       "      <td>Adventure, Fantasy, Shounen, Supernatural</td>\n",
       "      <td>Beet the Vandel Buster</td>\n",
       "      <td>冒険王ビィト</td>\n",
       "      <td>TV</td>\n",
       "      <td>52</td>\n",
       "      <td>Sep 30, 2004 to Sep 29, 2005</td>\n",
       "      <td>Fall 2004</td>\n",
       "      <td>...</td>\n",
       "      <td>312.0</td>\n",
       "      <td>529.0</td>\n",
       "      <td>1242.0</td>\n",
       "      <td>1713.0</td>\n",
       "      <td>1068.0</td>\n",
       "      <td>634.0</td>\n",
       "      <td>265.0</td>\n",
       "      <td>83.0</td>\n",
       "      <td>50.0</td>\n",
       "      <td>27.0</td>\n",
       "    </tr>\n",
       "  </tbody>\n",
       "</table>\n",
       "<p>5 rows × 35 columns</p>\n",
       "</div>"
      ],
      "text/plain": [
       "   MAL_ID                             Name Score  \\\n",
       "0       1                     Cowboy Bebop  8.78   \n",
       "1       5  Cowboy Bebop: Tengoku no Tobira  8.39   \n",
       "2       6                           Trigun  8.24   \n",
       "3       7               Witch Hunter Robin  7.27   \n",
       "4       8                   Bouken Ou Beet  6.98   \n",
       "\n",
       "                                                Genres  \\\n",
       "0      Action, Adventure, Comedy, Drama, Sci-Fi, Space   \n",
       "1                Action, Drama, Mystery, Sci-Fi, Space   \n",
       "2    Action, Sci-Fi, Adventure, Comedy, Drama, Shounen   \n",
       "3  Action, Mystery, Police, Supernatural, Drama, Magic   \n",
       "4            Adventure, Fantasy, Shounen, Supernatural   \n",
       "\n",
       "             English name                     Japanese name   Type Episodes  \\\n",
       "0            Cowboy Bebop                         カウボーイビバップ     TV       26   \n",
       "1  Cowboy Bebop:The Movie                    カウボーイビバップ 天国の扉  Movie        1   \n",
       "2                  Trigun                             トライガン     TV       26   \n",
       "3      Witch Hunter Robin  Witch Hunter ROBIN (ウイッチハンターロビン)     TV       26   \n",
       "4  Beet the Vandel Buster                            冒険王ビィト     TV       52   \n",
       "\n",
       "                          Aired    Premiered  ...  Score-10   Score-9  \\\n",
       "0   Apr 3, 1998 to Apr 24, 1999  Spring 1998  ...  229170.0  182126.0   \n",
       "1                   Sep 1, 2001      Unknown  ...   30043.0   49201.0   \n",
       "2   Apr 1, 1998 to Sep 30, 1998  Spring 1998  ...   50229.0   75651.0   \n",
       "3   Jul 2, 2002 to Dec 24, 2002  Summer 2002  ...    2182.0    4806.0   \n",
       "4  Sep 30, 2004 to Sep 29, 2005    Fall 2004  ...     312.0     529.0   \n",
       "\n",
       "    Score-8  Score-7  Score-6 Score-5 Score-4  Score-3  Score-2  Score-1  \n",
       "0  131625.0  62330.0  20688.0  8904.0  3184.0   1357.0    741.0   1580.0  \n",
       "1   49505.0  22632.0   5805.0  1877.0   577.0    221.0    109.0    379.0  \n",
       "2   86142.0  49432.0  15376.0  5838.0  1965.0    664.0    316.0    533.0  \n",
       "3   10128.0  11618.0   5709.0  2920.0  1083.0    353.0    164.0    131.0  \n",
       "4    1242.0   1713.0   1068.0   634.0   265.0     83.0     50.0     27.0  \n",
       "\n",
       "[5 rows x 35 columns]"
      ]
     },
     "execution_count": 76,
     "metadata": {},
     "output_type": "execute_result"
    }
   ],
   "source": [
    "df.head()"
   ]
  },
  {
   "cell_type": "code",
   "execution_count": 77,
   "metadata": {},
   "outputs": [],
   "source": [
    "df = df.replace(\"Unknown\", np.nan)"
   ]
  },
  {
   "cell_type": "markdown",
   "metadata": {},
   "source": [
    "- This function help you get a anime name by its id. If its english name is availble good we will use taht otherwise we will use name from NAME column ..."
   ]
  },
  {
   "cell_type": "code",
   "execution_count": 78,
   "metadata": {
    "execution": {
     "iopub.execute_input": "2025-01-13T11:30:12.479140Z",
     "iopub.status.busy": "2025-01-13T11:30:12.478649Z",
     "iopub.status.idle": "2025-01-13T11:30:21.265010Z",
     "shell.execute_reply": "2025-01-13T11:30:21.264033Z",
     "shell.execute_reply.started": "2025-01-13T11:30:12.479105Z"
    },
    "trusted": true
   },
   "outputs": [],
   "source": [
    "def getAnimeName(anime_id):\n",
    "    try:\n",
    "        name = df[df.anime_id == anime_id].eng_version.values[0]\n",
    "        if name is np.nan:\n",
    "            name = df[df.anime_id == anime_id].Name.values[0]\n",
    "    except:\n",
    "        print('error')\n",
    "    \n",
    "    return name\n"
   ]
  },
  {
   "cell_type": "markdown",
   "metadata": {},
   "source": [
    "- Create new columns : anime_id from MAL_ID and eng_version fromm ENG_VERSION and NAME COLUMN\n",
    "\n",
    "- For each anime ID, it applies the getAnimeName function to fill the eng_version with the English name of the anime. If the English name is not available, it tries to get the name from a different column.\n",
    "\n",
    "- Sorts the DataFrame by the Score column in descending order, so that higher-scoring animes come first.\n",
    "\n",
    "- The final DataFrame only contains the following columns\n"
   ]
  },
  {
   "cell_type": "code",
   "execution_count": 79,
   "metadata": {},
   "outputs": [],
   "source": [
    "df['anime_id'] = df['MAL_ID']\n",
    "df[\"eng_version\"] = df['English name']\n",
    "df['eng_version'] = df.anime_id.apply(lambda x: getAnimeName(x))\n",
    "\n",
    "df.sort_values(by=['Score'], \n",
    "               inplace=True,\n",
    "               ascending=False, \n",
    "               kind='quicksort',\n",
    "               na_position='last')\n",
    "\n",
    "df = df[[\"anime_id\", \"eng_version\", \n",
    "         \"Score\", \"Genres\", \"Episodes\", \n",
    "         \"Type\", \"Premiered\", \"Members\"]]"
   ]
  },
  {
   "cell_type": "markdown",
   "metadata": {},
   "source": [
    "- A function that asks for either a integer or string \n",
    "\n",
    "- If integer : It searches the DataFrame for the row(s) where the anime_id matches the input integer and returns those rows.\n",
    "\n",
    "- If string : It searches the DataFrame for the row(s) where the eng_version (English name) matches the input string and returns those rows."
   ]
  },
  {
   "cell_type": "code",
   "execution_count": 80,
   "metadata": {
    "execution": {
     "iopub.execute_input": "2025-01-13T11:30:52.341403Z",
     "iopub.status.busy": "2025-01-13T11:30:52.341071Z",
     "iopub.status.idle": "2025-01-13T11:30:52.345649Z",
     "shell.execute_reply": "2025-01-13T11:30:52.344751Z",
     "shell.execute_reply.started": "2025-01-13T11:30:52.341380Z"
    },
    "trusted": true
   },
   "outputs": [],
   "source": [
    "def getAnimeFrame(anime , df):\n",
    "    if isinstance(anime, int):\n",
    "        return df[df.anime_id == anime]\n",
    "    if isinstance(anime, str):\n",
    "        return df[df.eng_version == anime]"
   ]
  },
  {
   "cell_type": "code",
   "execution_count": 81,
   "metadata": {
    "execution": {
     "iopub.execute_input": "2025-01-13T11:32:00.852268Z",
     "iopub.status.busy": "2025-01-13T11:32:00.851945Z",
     "iopub.status.idle": "2025-01-13T11:32:00.862693Z",
     "shell.execute_reply": "2025-01-13T11:32:00.862005Z",
     "shell.execute_reply.started": "2025-01-13T11:32:00.852244Z"
    },
    "trusted": true
   },
   "outputs": [
    {
     "data": {
      "text/html": [
       "<div>\n",
       "<style scoped>\n",
       "    .dataframe tbody tr th:only-of-type {\n",
       "        vertical-align: middle;\n",
       "    }\n",
       "\n",
       "    .dataframe tbody tr th {\n",
       "        vertical-align: top;\n",
       "    }\n",
       "\n",
       "    .dataframe thead th {\n",
       "        text-align: right;\n",
       "    }\n",
       "</style>\n",
       "<table border=\"1\" class=\"dataframe\">\n",
       "  <thead>\n",
       "    <tr style=\"text-align: right;\">\n",
       "      <th></th>\n",
       "      <th>anime_id</th>\n",
       "      <th>eng_version</th>\n",
       "      <th>Score</th>\n",
       "      <th>Genres</th>\n",
       "      <th>Episodes</th>\n",
       "      <th>Type</th>\n",
       "      <th>Premiered</th>\n",
       "      <th>Members</th>\n",
       "    </tr>\n",
       "  </thead>\n",
       "  <tbody>\n",
       "    <tr>\n",
       "      <th>0</th>\n",
       "      <td>1</td>\n",
       "      <td>Cowboy Bebop</td>\n",
       "      <td>8.78</td>\n",
       "      <td>Action, Adventure, Comedy, Drama, Sci-Fi, Space</td>\n",
       "      <td>26</td>\n",
       "      <td>TV</td>\n",
       "      <td>Spring 1998</td>\n",
       "      <td>1251960</td>\n",
       "    </tr>\n",
       "  </tbody>\n",
       "</table>\n",
       "</div>"
      ],
      "text/plain": [
       "   anime_id   eng_version Score  \\\n",
       "0         1  Cowboy Bebop  8.78   \n",
       "\n",
       "                                            Genres Episodes Type    Premiered  \\\n",
       "0  Action, Adventure, Comedy, Drama, Sci-Fi, Space       26   TV  Spring 1998   \n",
       "\n",
       "   Members  \n",
       "0  1251960  "
      ]
     },
     "execution_count": 81,
     "metadata": {},
     "output_type": "execute_result"
    }
   ],
   "source": [
    "getAnimeFrame(1 , df)\n"
   ]
  },
  {
   "cell_type": "code",
   "execution_count": 82,
   "metadata": {
    "execution": {
     "iopub.execute_input": "2025-01-13T11:32:11.624580Z",
     "iopub.status.busy": "2025-01-13T11:32:11.624278Z",
     "iopub.status.idle": "2025-01-13T11:32:11.637088Z",
     "shell.execute_reply": "2025-01-13T11:32:11.636192Z",
     "shell.execute_reply.started": "2025-01-13T11:32:11.624558Z"
    },
    "trusted": true
   },
   "outputs": [
    {
     "data": {
      "text/html": [
       "<div>\n",
       "<style scoped>\n",
       "    .dataframe tbody tr th:only-of-type {\n",
       "        vertical-align: middle;\n",
       "    }\n",
       "\n",
       "    .dataframe tbody tr th {\n",
       "        vertical-align: top;\n",
       "    }\n",
       "\n",
       "    .dataframe thead th {\n",
       "        text-align: right;\n",
       "    }\n",
       "</style>\n",
       "<table border=\"1\" class=\"dataframe\">\n",
       "  <thead>\n",
       "    <tr style=\"text-align: right;\">\n",
       "      <th></th>\n",
       "      <th>anime_id</th>\n",
       "      <th>eng_version</th>\n",
       "      <th>Score</th>\n",
       "      <th>Genres</th>\n",
       "      <th>Episodes</th>\n",
       "      <th>Type</th>\n",
       "      <th>Premiered</th>\n",
       "      <th>Members</th>\n",
       "    </tr>\n",
       "  </thead>\n",
       "  <tbody>\n",
       "    <tr>\n",
       "      <th>10</th>\n",
       "      <td>20</td>\n",
       "      <td>Naruto</td>\n",
       "      <td>7.91</td>\n",
       "      <td>Action, Adventure, Comedy, Super Power, Martial Arts, Shounen</td>\n",
       "      <td>220</td>\n",
       "      <td>TV</td>\n",
       "      <td>Fall 2002</td>\n",
       "      <td>1830540</td>\n",
       "    </tr>\n",
       "  </tbody>\n",
       "</table>\n",
       "</div>"
      ],
      "text/plain": [
       "    anime_id eng_version Score  \\\n",
       "10        20      Naruto  7.91   \n",
       "\n",
       "                                                           Genres Episodes  \\\n",
       "10  Action, Adventure, Comedy, Super Power, Martial Arts, Shounen      220   \n",
       "\n",
       "   Type  Premiered  Members  \n",
       "10   TV  Fall 2002  1830540  "
      ]
     },
     "execution_count": 82,
     "metadata": {},
     "output_type": "execute_result"
    }
   ],
   "source": [
    "getAnimeFrame(\"Naruto\",df)\n"
   ]
  },
  {
   "cell_type": "markdown",
   "metadata": {},
   "source": [
    "### READING ANIME_WITH_SYNOPSIS.CSV"
   ]
  },
  {
   "cell_type": "markdown",
   "metadata": {},
   "source": [
    "- Just like we did above instead of anime name and all it will fetch us synopsis"
   ]
  },
  {
   "cell_type": "code",
   "execution_count": 83,
   "metadata": {
    "execution": {
     "iopub.execute_input": "2025-01-13T11:31:33.717814Z",
     "iopub.status.busy": "2025-01-13T11:31:33.717451Z",
     "iopub.status.idle": "2025-01-13T11:31:33.913018Z",
     "shell.execute_reply": "2025-01-13T11:31:33.912062Z",
     "shell.execute_reply.started": "2025-01-13T11:31:33.717782Z"
    },
    "trusted": true
   },
   "outputs": [],
   "source": [
    "cols = [\"MAL_ID\", \"Name\", \"Genres\", \"sypnopsis\"]\n",
    "sypnopsis_df = pd.read_csv(INPUT_DIR + '/anime_with_synopsis.csv', usecols=cols)\n"
   ]
  },
  {
   "cell_type": "code",
   "execution_count": 84,
   "metadata": {},
   "outputs": [],
   "source": [
    "def getSypnopsis(anime,sypnopsis_df):\n",
    "    if isinstance(anime, int):\n",
    "        return sypnopsis_df[sypnopsis_df.MAL_ID == anime].sypnopsis.values[0]\n",
    "    if isinstance(anime, str):\n",
    "        return sypnopsis_df[sypnopsis_df.Name == anime].sypnopsis.values[0]"
   ]
  },
  {
   "cell_type": "code",
   "execution_count": 85,
   "metadata": {
    "execution": {
     "iopub.execute_input": "2025-01-13T11:32:28.824713Z",
     "iopub.status.busy": "2025-01-13T11:32:28.824325Z",
     "iopub.status.idle": "2025-01-13T11:32:28.830917Z",
     "shell.execute_reply": "2025-01-13T11:32:28.830182Z",
     "shell.execute_reply.started": "2025-01-13T11:32:28.824681Z"
    },
    "trusted": true
   },
   "outputs": [
    {
     "data": {
      "text/plain": [
       "'In the year 2071, humanity has colonized several of the planets and moons of the solar system leaving the now uninhabitable surface of planet Earth behind. The Inter Solar System Police attempts to keep peace in the galaxy, aided in part by outlaw bounty hunters, referred to as \"Cowboys.\" The ragtag team aboard the spaceship Bebop are two such individuals. Mellow and carefree Spike Spiegel is balanced by his boisterous, pragmatic partner Jet Black as the pair makes a living chasing bounties and collecting rewards. Thrown off course by the addition of new members that they meet in their travels—Ein, a genetically engineered, highly intelligent Welsh Corgi; femme fatale Faye Valentine, an enigmatic trickster with memory loss; and the strange computer whiz kid Edward Wong—the crew embarks on thrilling adventures that unravel each member\\'s dark and mysterious past little by little. Well-balanced with high density action and light-hearted comedy, Cowboy Bebop is a space Western classic and an homage to the smooth and improvised music it is named after.'"
      ]
     },
     "execution_count": 85,
     "metadata": {},
     "output_type": "execute_result"
    }
   ],
   "source": [
    "getSypnopsis(1,sypnopsis_df)\n"
   ]
  },
  {
   "cell_type": "code",
   "execution_count": 86,
   "metadata": {
    "execution": {
     "iopub.execute_input": "2025-01-13T11:32:38.918914Z",
     "iopub.status.busy": "2025-01-13T11:32:38.918543Z",
     "iopub.status.idle": "2025-01-13T11:32:38.926349Z",
     "shell.execute_reply": "2025-01-13T11:32:38.925548Z",
     "shell.execute_reply.started": "2025-01-13T11:32:38.918886Z"
    },
    "trusted": true
   },
   "outputs": [
    {
     "data": {
      "text/plain": [
       "\"oments prior to Naruto Uzumaki's birth, a huge demon known as the Kyuubi, the Nine-Tailed Fox, attacked Konohagakure, the Hidden Leaf Village, and wreaked havoc. In order to put an end to the Kyuubi's rampage, the leader of the village, the Fourth Hokage, sacrificed his life and sealed the monstrous beast inside the newborn Naruto. Now, Naruto is a hyperactive and knuckle-headed ninja still living in Konohagakure. Shunned because of the Kyuubi inside him, Naruto struggles to find his place in the village, while his burning desire to become the Hokage of Konohagakure leads him not only to some great new friends, but also some deadly foes.\""
      ]
     },
     "execution_count": 86,
     "metadata": {},
     "output_type": "execute_result"
    }
   ],
   "source": [
    "getSypnopsis(\"Naruto\",sypnopsis_df)\n"
   ]
  },
  {
   "cell_type": "markdown",
   "metadata": {},
   "source": [
    "## ITEM BASED RECOMMNDATION"
   ]
  },
  {
   "cell_type": "code",
   "execution_count": 87,
   "metadata": {
    "execution": {
     "iopub.execute_input": "2025-01-13T11:33:40.094216Z",
     "iopub.status.busy": "2025-01-13T11:33:40.093879Z",
     "iopub.status.idle": "2025-01-13T11:33:40.101429Z",
     "shell.execute_reply": "2025-01-13T11:33:40.100615Z",
     "shell.execute_reply.started": "2025-01-13T11:33:40.094192Z"
    },
    "trusted": true
   },
   "outputs": [],
   "source": [
    "pd.set_option(\"max_colwidth\", None)\n",
    "\n",
    "\n",
    "def find_similar_animes(name, anime_weights , anime2anime_encoded , anime2anime_decoded, df , synopsis_df , n=10, return_dist=False, neg=False):\n",
    "    try:\n",
    "        index = getAnimeFrame(name,df).anime_id.values[0]\n",
    "        encoded_index = anime2anime_encoded.get(index)\n",
    "\n",
    "        weights = anime_weights\n",
    "        \n",
    "        \n",
    "        dists = np.dot(weights, weights[encoded_index])\n",
    "        sorted_dists = np.argsort(dists)\n",
    "        \n",
    "       \n",
    "        n = n + 1            \n",
    "        \n",
    "        if neg:\n",
    "            closest = sorted_dists[:n]\n",
    "        else:\n",
    "            closest = sorted_dists[-n:]\n",
    "\n",
    "        print('Animes closest to {}'.format(name))\n",
    "\n",
    "\n",
    "        \n",
    "        if return_dist:\n",
    "            return dists, closest\n",
    "        \n",
    "        \n",
    "        SimilarityArr = []\n",
    "\n",
    "        for close in closest:\n",
    "\n",
    "            \n",
    "            decoded_id = anime2anime_decoded.get(close)\n",
    "\n",
    "            \n",
    "            sypnopsis = getSypnopsis(decoded_id,synopsis_df)\n",
    "\n",
    "            \n",
    "            anime_frame = getAnimeFrame(decoded_id,df)\n",
    "            \n",
    "            \n",
    "            anime_name = anime_frame.eng_version.values[0]\n",
    "            genre = anime_frame.Genres.values[0]\n",
    "            similarity = dists[close]\n",
    "            SimilarityArr.append({\"anime_id\": decoded_id, \"name\": anime_name,\n",
    "                                  \"similarity\": similarity,\"genre\": genre,\n",
    "                                  'sypnopsis': sypnopsis})\n",
    "\n",
    "        Frame = pd.DataFrame(SimilarityArr).sort_values(by=\"similarity\", ascending=False)\n",
    "        return Frame[Frame.anime_id != index].drop(['anime_id'], axis=1)\n",
    "\n",
    "    except:\n",
    "        print('{}!, Not Found in Anime list'.format(name))"
   ]
  },
  {
   "cell_type": "code",
   "execution_count": 88,
   "metadata": {
    "execution": {
     "iopub.execute_input": "2025-01-13T11:34:11.845555Z",
     "iopub.status.busy": "2025-01-13T11:34:11.845243Z",
     "iopub.status.idle": "2025-01-13T11:34:11.879374Z",
     "shell.execute_reply": "2025-01-13T11:34:11.878358Z",
     "shell.execute_reply.started": "2025-01-13T11:34:11.845532Z"
    },
    "trusted": true
   },
   "outputs": [
    {
     "name": "stdout",
     "output_type": "stream",
     "text": [
      "Animes closest to Dragon Ball Z\n"
     ]
    },
    {
     "data": {
      "text/html": [
       "<div>\n",
       "<style scoped>\n",
       "    .dataframe tbody tr th:only-of-type {\n",
       "        vertical-align: middle;\n",
       "    }\n",
       "\n",
       "    .dataframe tbody tr th {\n",
       "        vertical-align: top;\n",
       "    }\n",
       "\n",
       "    .dataframe thead th {\n",
       "        text-align: right;\n",
       "    }\n",
       "</style>\n",
       "<table border=\"1\" class=\"dataframe\">\n",
       "  <thead>\n",
       "    <tr style=\"text-align: right;\">\n",
       "      <th></th>\n",
       "      <th>name</th>\n",
       "      <th>similarity</th>\n",
       "      <th>genre</th>\n",
       "      <th>sypnopsis</th>\n",
       "    </tr>\n",
       "  </thead>\n",
       "  <tbody>\n",
       "    <tr>\n",
       "      <th>4</th>\n",
       "      <td>Mikan Seijin Arawaru</td>\n",
       "      <td>0.353515</td>\n",
       "      <td>Comedy</td>\n",
       "      <td>The story centers on the titular Mikan Seijin (Orange Alien), who appears from Local 3 (an orange planet in a higher dimension) with plans of invading the Earth. (Source: ANN)</td>\n",
       "    </tr>\n",
       "    <tr>\n",
       "      <th>3</th>\n",
       "      <td>Sore Ike! Anpanman: Rhythm de Teasobi - Anpanman to Fushigi na Parasol</td>\n",
       "      <td>0.345641</td>\n",
       "      <td>Comedy, Kids, Fantasy</td>\n",
       "      <td>No synopsis information has been added to this title. Help improve our database by adding a synopsis here .</td>\n",
       "    </tr>\n",
       "    <tr>\n",
       "      <th>2</th>\n",
       "      <td>Kurumiwari Ningyou (2014)</td>\n",
       "      <td>0.341139</td>\n",
       "      <td>Fantasy, Romance, Drama</td>\n",
       "      <td>2014 adaptation of the original Nutcracker story by E.T.A. Hoffmann.</td>\n",
       "    </tr>\n",
       "    <tr>\n",
       "      <th>1</th>\n",
       "      <td>Drifters (OVA): Kokuou-sama Goranshin</td>\n",
       "      <td>0.334652</td>\n",
       "      <td>Comedy, Parody</td>\n",
       "      <td>Final episode of Kokuou-sama Goranshin released with the new Drifters episodes 13-14 Blu-ray disc.</td>\n",
       "    </tr>\n",
       "    <tr>\n",
       "      <th>0</th>\n",
       "      <td>Diseases Spread</td>\n",
       "      <td>0.317976</td>\n",
       "      <td>Kids</td>\n",
       "      <td>Eating a fish of frying, making flies in food due to improper circumstances, doing washing in the river, etc, the terrible venom spreads unexpectedly. In order to prevent it, it is essential to disinfect with salad water. When going out, it is important to mask the fungus and prevent fungal invasion and disinfect futon etc in the sunlight. Since one person's carelessness will lead to the family and, in the end, the disease spread will spread out in Japan, urge the attention so that hygiene ideals will spread. (Source: Japanese Animated Film Classics)</td>\n",
       "    </tr>\n",
       "  </tbody>\n",
       "</table>\n",
       "</div>"
      ],
      "text/plain": [
       "                                                                     name  \\\n",
       "4                                                    Mikan Seijin Arawaru   \n",
       "3  Sore Ike! Anpanman: Rhythm de Teasobi - Anpanman to Fushigi na Parasol   \n",
       "2                                               Kurumiwari Ningyou (2014)   \n",
       "1                                   Drifters (OVA): Kokuou-sama Goranshin   \n",
       "0                                                         Diseases Spread   \n",
       "\n",
       "   similarity                    genre  \\\n",
       "4    0.353515                   Comedy   \n",
       "3    0.345641    Comedy, Kids, Fantasy   \n",
       "2    0.341139  Fantasy, Romance, Drama   \n",
       "1    0.334652           Comedy, Parody   \n",
       "0    0.317976                     Kids   \n",
       "\n",
       "                                                                                                                                                                                                                                                                                                                                                                                                                                                                                                                                                                      sypnopsis  \n",
       "4                                                                                                                                                                                                                                                                                                                                                                                               The story centers on the titular Mikan Seijin (Orange Alien), who appears from Local 3 (an orange planet in a higher dimension) with plans of invading the Earth. (Source: ANN)  \n",
       "3                                                                                                                                                                                                                                                                                                                                                                                                                                                                   No synopsis information has been added to this title. Help improve our database by adding a synopsis here .  \n",
       "2                                                                                                                                                                                                                                                                                                                                                                                                                                                                                                          2014 adaptation of the original Nutcracker story by E.T.A. Hoffmann.  \n",
       "1                                                                                                                                                                                                                                                                                                                                                                                                                                                                            Final episode of Kokuou-sama Goranshin released with the new Drifters episodes 13-14 Blu-ray disc.  \n",
       "0  Eating a fish of frying, making flies in food due to improper circumstances, doing washing in the river, etc, the terrible venom spreads unexpectedly. In order to prevent it, it is essential to disinfect with salad water. When going out, it is important to mask the fungus and prevent fungal invasion and disinfect futon etc in the sunlight. Since one person's carelessness will lead to the family and, in the end, the disease spread will spread out in Japan, urge the attention so that hygiene ideals will spread. (Source: Japanese Animated Film Classics)  "
      ]
     },
     "execution_count": 88,
     "metadata": {},
     "output_type": "execute_result"
    }
   ],
   "source": [
    "find_similar_animes('Dragon Ball Z', anime_weights,anime2anime_encoded,anime2anime_decoded,df,sypnopsis_df, n=5, neg=False)"
   ]
  },
  {
   "cell_type": "code",
   "execution_count": null,
   "metadata": {
    "execution": {
     "iopub.execute_input": "2025-01-13T11:35:06.518987Z",
     "iopub.status.busy": "2025-01-13T11:35:06.518549Z",
     "iopub.status.idle": "2025-01-13T11:35:06.552740Z",
     "shell.execute_reply": "2025-01-13T11:35:06.551158Z",
     "shell.execute_reply.started": "2025-01-13T11:35:06.518959Z"
    },
    "trusted": true
   },
   "outputs": [],
   "source": []
  },
  {
   "cell_type": "code",
   "execution_count": 89,
   "metadata": {
    "execution": {
     "iopub.execute_input": "2025-01-13T11:35:19.167976Z",
     "iopub.status.busy": "2025-01-13T11:35:19.167667Z",
     "iopub.status.idle": "2025-01-13T11:35:19.201259Z",
     "shell.execute_reply": "2025-01-13T11:35:19.200189Z",
     "shell.execute_reply.started": "2025-01-13T11:35:19.167952Z"
    },
    "trusted": true
   },
   "outputs": [
    {
     "name": "stdout",
     "output_type": "stream",
     "text": [
      "Animes closest to Black Clover\n"
     ]
    },
    {
     "data": {
      "text/html": [
       "<div>\n",
       "<style scoped>\n",
       "    .dataframe tbody tr th:only-of-type {\n",
       "        vertical-align: middle;\n",
       "    }\n",
       "\n",
       "    .dataframe tbody tr th {\n",
       "        vertical-align: top;\n",
       "    }\n",
       "\n",
       "    .dataframe thead th {\n",
       "        text-align: right;\n",
       "    }\n",
       "</style>\n",
       "<table border=\"1\" class=\"dataframe\">\n",
       "  <thead>\n",
       "    <tr style=\"text-align: right;\">\n",
       "      <th></th>\n",
       "      <th>name</th>\n",
       "      <th>similarity</th>\n",
       "      <th>genre</th>\n",
       "      <th>sypnopsis</th>\n",
       "    </tr>\n",
       "  </thead>\n",
       "  <tbody>\n",
       "    <tr>\n",
       "      <th>4</th>\n",
       "      <td>Usavich Zero</td>\n",
       "      <td>0.341919</td>\n",
       "      <td>Comedy</td>\n",
       "      <td>Prequel to the first Usavich season.</td>\n",
       "    </tr>\n",
       "    <tr>\n",
       "      <th>3</th>\n",
       "      <td>Duel Masters Victory V3</td>\n",
       "      <td>0.329382</td>\n",
       "      <td>Action, Adventure, Comedy, Shounen</td>\n",
       "      <td>In this series the story continues after Katta Kirifuda defeats the YA.RA.SI band and also gains back his popularity by defeating Leo and his sidekick Nai Minamimo. In this series Katta will use a new race of Outrage creatures against the opposing new race of Oracle deck users. Also in the creature world a new time era will start off. (Source: Duel Masters Wikia)</td>\n",
       "    </tr>\n",
       "    <tr>\n",
       "      <th>2</th>\n",
       "      <td>Yowamushi Pedal: New Generation</td>\n",
       "      <td>0.326288</td>\n",
       "      <td>Comedy, Sports, Drama, Shounen</td>\n",
       "      <td>Third season of the Yowamushi Pedal series. With the team's combined strength, the Sohoku High bicycle racing club beat reigning champions Hakone Academy at the Interhigh national race and achieved an impressive overall victory. Now that their hot summer has ended and third-years Kinjou, Makishima, and Tadokoro have retired from the team, first-year participants in the Interhigh Onoda Sakamichi, Imaizumi Shunsuke, and Naruko Shoukichi, along with their new captain second-year Teshima Junta and vice-captain Aoyagi Hajime begin preparing as a \"new team\" for their second consecutive championship at the next Interhigh. In order to retake their throne, their rivals Hakone Academy have also incorporated new members and begun training as a new team. Kyoto Fushimi High is lead by the monstrous racer Midousuji Akira. The nation's top schools are all honing their skills to reach the top of the Interhigh. (Source: Crunchyroll)</td>\n",
       "    </tr>\n",
       "    <tr>\n",
       "      <th>1</th>\n",
       "      <td>Queen's Blade: Rebellion</td>\n",
       "      <td>0.319905</td>\n",
       "      <td>Action, Adventure, Ecchi, Fantasy</td>\n",
       "      <td>Power corrupts, and it when it appears that the once noble Queen Claudette's ways have turned to oppression and heretical persecution, it's up to a new generation of warriors to step up to the plate armor to bear arms and bare their naked fury in open rebellion! The odds may seem unfairly stacked in favor of the Amazonian ranks of the queen, doubly supported by her power of writ and assassins. But the incredible wits and assets of the dazzling array of daring damsels willing to risk their gorgeous skins and put their lithesome bodies on line against her, might just expose a few unexpected weaknesses in the queen's support! (Source: Sentai Filmworks)</td>\n",
       "    </tr>\n",
       "    <tr>\n",
       "      <th>0</th>\n",
       "      <td>Natsu-iro Kiseki: 15-kaime no Natsuyasumi</td>\n",
       "      <td>0.305900</td>\n",
       "      <td>Slice of Life</td>\n",
       "      <td>seven minute epilogue to the TV series, released as an OVA.</td>\n",
       "    </tr>\n",
       "  </tbody>\n",
       "</table>\n",
       "</div>"
      ],
      "text/plain": [
       "                                        name  similarity  \\\n",
       "4                               Usavich Zero    0.341919   \n",
       "3                    Duel Masters Victory V3    0.329382   \n",
       "2            Yowamushi Pedal: New Generation    0.326288   \n",
       "1                   Queen's Blade: Rebellion    0.319905   \n",
       "0  Natsu-iro Kiseki: 15-kaime no Natsuyasumi    0.305900   \n",
       "\n",
       "                                genre  \\\n",
       "4                              Comedy   \n",
       "3  Action, Adventure, Comedy, Shounen   \n",
       "2      Comedy, Sports, Drama, Shounen   \n",
       "1   Action, Adventure, Ecchi, Fantasy   \n",
       "0                       Slice of Life   \n",
       "\n",
       "                                                                                                                                                                                                                                                                                                                                                                                                                                                                                                                                                                                                                                                                                                                                                                                                                                                                                                                                                           sypnopsis  \n",
       "4                                                                                                                                                                                                                                                                                                                                                                                                                                                                                                                                                                                                                                                                                                                                                                                                                                                                                                                               Prequel to the first Usavich season.  \n",
       "3                                                                                                                                                                                                                                                                                                                                                                                                                                                                                                                                                                                      In this series the story continues after Katta Kirifuda defeats the YA.RA.SI band and also gains back his popularity by defeating Leo and his sidekick Nai Minamimo. In this series Katta will use a new race of Outrage creatures against the opposing new race of Oracle deck users. Also in the creature world a new time era will start off. (Source: Duel Masters Wikia)  \n",
       "2  Third season of the Yowamushi Pedal series. With the team's combined strength, the Sohoku High bicycle racing club beat reigning champions Hakone Academy at the Interhigh national race and achieved an impressive overall victory. Now that their hot summer has ended and third-years Kinjou, Makishima, and Tadokoro have retired from the team, first-year participants in the Interhigh Onoda Sakamichi, Imaizumi Shunsuke, and Naruko Shoukichi, along with their new captain second-year Teshima Junta and vice-captain Aoyagi Hajime begin preparing as a \"new team\" for their second consecutive championship at the next Interhigh. In order to retake their throne, their rivals Hakone Academy have also incorporated new members and begun training as a new team. Kyoto Fushimi High is lead by the monstrous racer Midousuji Akira. The nation's top schools are all honing their skills to reach the top of the Interhigh. (Source: Crunchyroll)  \n",
       "1                                                                                                                                                                                                                                                                                  Power corrupts, and it when it appears that the once noble Queen Claudette's ways have turned to oppression and heretical persecution, it's up to a new generation of warriors to step up to the plate armor to bear arms and bare their naked fury in open rebellion! The odds may seem unfairly stacked in favor of the Amazonian ranks of the queen, doubly supported by her power of writ and assassins. But the incredible wits and assets of the dazzling array of daring damsels willing to risk their gorgeous skins and put their lithesome bodies on line against her, might just expose a few unexpected weaknesses in the queen's support! (Source: Sentai Filmworks)  \n",
       "0                                                                                                                                                                                                                                                                                                                                                                                                                                                                                                                                                                                                                                                                                                                                                                                                                                                                                                        seven minute epilogue to the TV series, released as an OVA.  "
      ]
     },
     "execution_count": 89,
     "metadata": {},
     "output_type": "execute_result"
    }
   ],
   "source": [
    "find_similar_animes('Black Clover',anime_weights,anime2anime_encoded,anime2anime_decoded,df,sypnopsis_df, n=5, neg=False)"
   ]
  },
  {
   "cell_type": "markdown",
   "metadata": {},
   "source": [
    "### USER BASED RECOMMENDATION"
   ]
  },
  {
   "cell_type": "markdown",
   "metadata": {},
   "source": [
    "- Picking a random use who has not watched much anime so that we can give him recommendation based on what other people watch"
   ]
  },
  {
   "cell_type": "code",
   "execution_count": 90,
   "metadata": {
    "execution": {
     "iopub.execute_input": "2025-01-13T11:36:03.928144Z",
     "iopub.status.busy": "2025-01-13T11:36:03.927768Z",
     "iopub.status.idle": "2025-01-13T11:36:04.993590Z",
     "shell.execute_reply": "2025-01-13T11:36:04.992852Z",
     "shell.execute_reply.started": "2025-01-13T11:36:03.928120Z"
    },
    "trusted": true
   },
   "outputs": [
    {
     "name": "stdout",
     "output_type": "stream",
     "text": [
      "> user_id: 15829\n"
     ]
    }
   ],
   "source": [
    "ratings_per_user = rating_df.groupby('user_id').size()\n",
    "random_user = ratings_per_user[ratings_per_user < 500].sample(1, random_state=None).index[0]\n",
    "print('> user_id:', random_user)"
   ]
  },
  {
   "cell_type": "code",
   "execution_count": 91,
   "metadata": {
    "execution": {
     "iopub.execute_input": "2025-01-13T11:37:03.800841Z",
     "iopub.status.busy": "2025-01-13T11:37:03.800430Z",
     "iopub.status.idle": "2025-01-13T11:37:03.807418Z",
     "shell.execute_reply": "2025-01-13T11:37:03.806528Z",
     "shell.execute_reply.started": "2025-01-13T11:37:03.800812Z"
    },
    "trusted": true
   },
   "outputs": [],
   "source": [
    "pd.set_option(\"max_colwidth\", None)\n",
    "\n",
    "def find_similar_users(item_input, user_weights , user2user_encoded , user2user_decoded, n=10,return_dist=False, neg=False):\n",
    "    try:\n",
    "        index = item_input\n",
    "        encoded_index = user2user_encoded.get(index)\n",
    "        weights = user_weights\n",
    "    \n",
    "        dists = np.dot(weights, weights[encoded_index])\n",
    "        sorted_dists = np.argsort(dists)\n",
    "        \n",
    "        n = n + 1\n",
    "        \n",
    "        if neg:\n",
    "            closest = sorted_dists[:n]\n",
    "        else:\n",
    "            closest = sorted_dists[-n:]\n",
    "\n",
    "        print('> users similar to #{}'.format(item_input))\n",
    "\n",
    "        if return_dist:\n",
    "            return dists, closest\n",
    "        \n",
    "        SimilarityArr = []\n",
    "        \n",
    "        for close in closest:\n",
    "            similarity = dists[close]\n",
    "\n",
    "            if isinstance(item_input, int):\n",
    "                decoded_id = user2user_decoded.get(close)\n",
    "                SimilarityArr.append({\"similar_users\": decoded_id, \n",
    "                                      \"similarity\": similarity})\n",
    "\n",
    "        similar_users = pd.DataFrame(SimilarityArr).sort_values(by=\"similarity\", \n",
    "                                                        ascending=False)\n",
    "        similar_users = similar_users[similar_users.similar_users != item_input]\n",
    "        \n",
    "        return similar_users\n",
    "    \n",
    "    except:\n",
    "        print('{}!, Not Found in User list'.format(item_input))"
   ]
  },
  {
   "cell_type": "code",
   "execution_count": 93,
   "metadata": {
    "execution": {
     "iopub.execute_input": "2025-01-13T11:42:31.682345Z",
     "iopub.status.busy": "2025-01-13T11:42:31.681972Z",
     "iopub.status.idle": "2025-01-13T11:42:31.707681Z",
     "shell.execute_reply": "2025-01-13T11:42:31.706227Z",
     "shell.execute_reply.started": "2025-01-13T11:42:31.682321Z"
    },
    "trusted": true
   },
   "outputs": [
    {
     "name": "stdout",
     "output_type": "stream",
     "text": [
      "> users similar to #15829\n"
     ]
    },
    {
     "data": {
      "text/html": [
       "<div>\n",
       "<style scoped>\n",
       "    .dataframe tbody tr th:only-of-type {\n",
       "        vertical-align: middle;\n",
       "    }\n",
       "\n",
       "    .dataframe tbody tr th {\n",
       "        vertical-align: top;\n",
       "    }\n",
       "\n",
       "    .dataframe thead th {\n",
       "        text-align: right;\n",
       "    }\n",
       "</style>\n",
       "<table border=\"1\" class=\"dataframe\">\n",
       "  <thead>\n",
       "    <tr style=\"text-align: right;\">\n",
       "      <th></th>\n",
       "      <th>similar_users</th>\n",
       "      <th>similarity</th>\n",
       "    </tr>\n",
       "  </thead>\n",
       "  <tbody>\n",
       "    <tr>\n",
       "      <th>4</th>\n",
       "      <td>5321</td>\n",
       "      <td>0.315259</td>\n",
       "    </tr>\n",
       "    <tr>\n",
       "      <th>3</th>\n",
       "      <td>12347</td>\n",
       "      <td>0.298093</td>\n",
       "    </tr>\n",
       "    <tr>\n",
       "      <th>2</th>\n",
       "      <td>14527</td>\n",
       "      <td>0.281621</td>\n",
       "    </tr>\n",
       "    <tr>\n",
       "      <th>1</th>\n",
       "      <td>13027</td>\n",
       "      <td>0.275331</td>\n",
       "    </tr>\n",
       "    <tr>\n",
       "      <th>0</th>\n",
       "      <td>10497</td>\n",
       "      <td>0.274554</td>\n",
       "    </tr>\n",
       "  </tbody>\n",
       "</table>\n",
       "</div>"
      ],
      "text/plain": [
       "   similar_users  similarity\n",
       "4           5321    0.315259\n",
       "3          12347    0.298093\n",
       "2          14527    0.281621\n",
       "1          13027    0.275331\n",
       "0          10497    0.274554"
      ]
     },
     "execution_count": 93,
     "metadata": {},
     "output_type": "execute_result"
    }
   ],
   "source": [
    "find_similar_users(int(random_user), user_weights,user2user_encoded,user2user_decoded,\n",
    "                                   n=5, \n",
    "                                   neg=False)"
   ]
  },
  {
   "cell_type": "markdown",
   "metadata": {},
   "source": [
    "- You will se the user itself alsois included in list . We should avoid this"
   ]
  },
  {
   "cell_type": "code",
   "execution_count": 94,
   "metadata": {
    "execution": {
     "iopub.execute_input": "2025-01-13T11:42:50.261880Z",
     "iopub.status.busy": "2025-01-13T11:42:50.261534Z",
     "iopub.status.idle": "2025-01-13T11:42:50.284910Z",
     "shell.execute_reply": "2025-01-13T11:42:50.283664Z",
     "shell.execute_reply.started": "2025-01-13T11:42:50.261856Z"
    },
    "trusted": true
   },
   "outputs": [
    {
     "name": "stdout",
     "output_type": "stream",
     "text": [
      "> users similar to #15829\n"
     ]
    },
    {
     "data": {
      "text/html": [
       "<div>\n",
       "<style scoped>\n",
       "    .dataframe tbody tr th:only-of-type {\n",
       "        vertical-align: middle;\n",
       "    }\n",
       "\n",
       "    .dataframe tbody tr th {\n",
       "        vertical-align: top;\n",
       "    }\n",
       "\n",
       "    .dataframe thead th {\n",
       "        text-align: right;\n",
       "    }\n",
       "</style>\n",
       "<table border=\"1\" class=\"dataframe\">\n",
       "  <thead>\n",
       "    <tr style=\"text-align: right;\">\n",
       "      <th></th>\n",
       "      <th>similar_users</th>\n",
       "      <th>similarity</th>\n",
       "    </tr>\n",
       "  </thead>\n",
       "  <tbody>\n",
       "    <tr>\n",
       "      <th>4</th>\n",
       "      <td>5321</td>\n",
       "      <td>0.315259</td>\n",
       "    </tr>\n",
       "    <tr>\n",
       "      <th>3</th>\n",
       "      <td>12347</td>\n",
       "      <td>0.298093</td>\n",
       "    </tr>\n",
       "    <tr>\n",
       "      <th>2</th>\n",
       "      <td>14527</td>\n",
       "      <td>0.281621</td>\n",
       "    </tr>\n",
       "    <tr>\n",
       "      <th>1</th>\n",
       "      <td>13027</td>\n",
       "      <td>0.275331</td>\n",
       "    </tr>\n",
       "    <tr>\n",
       "      <th>0</th>\n",
       "      <td>10497</td>\n",
       "      <td>0.274554</td>\n",
       "    </tr>\n",
       "  </tbody>\n",
       "</table>\n",
       "</div>"
      ],
      "text/plain": [
       "   similar_users  similarity\n",
       "4           5321    0.315259\n",
       "3          12347    0.298093\n",
       "2          14527    0.281621\n",
       "1          13027    0.275331\n",
       "0          10497    0.274554"
      ]
     },
     "execution_count": 94,
     "metadata": {},
     "output_type": "execute_result"
    }
   ],
   "source": [
    "similar_users = find_similar_users(int(random_user), user_weights,user2user_encoded,user2user_decoded,\n",
    "                                   n=5, \n",
    "                                   neg=False)\n",
    "\n",
    "similar_users = similar_users[similar_users.similar_users != random_user]\n",
    "similar_users.head(5)"
   ]
  },
  {
   "cell_type": "markdown",
   "metadata": {},
   "source": [
    "- We have low similarity scores as we trained our model on just 5M rows but it originally has 7 crore rows"
   ]
  },
  {
   "cell_type": "markdown",
   "metadata": {},
   "source": [
    "It extracts genres from the Genres column, counts their occurrences, and returns a list of all genres."
   ]
  },
  {
   "cell_type": "code",
   "execution_count": 95,
   "metadata": {
    "execution": {
     "iopub.execute_input": "2025-01-13T11:43:35.684305Z",
     "iopub.status.busy": "2025-01-13T11:43:35.683992Z",
     "iopub.status.idle": "2025-01-13T11:43:35.689831Z",
     "shell.execute_reply": "2025-01-13T11:43:35.688827Z",
     "shell.execute_reply.started": "2025-01-13T11:43:35.684282Z"
    },
    "trusted": true
   },
   "outputs": [],
   "source": [
    "def showWordCloud(all_genres):\n",
    "    genres_cloud = WordCloud(width=700, height=400, \n",
    "                             background_color='white', \n",
    "                             colormap='gnuplot').generate_from_frequencies(all_genres)\n",
    "    \n",
    "    plt.figure(figsize=(10,8)) \n",
    "    plt.imshow(genres_cloud, interpolation='bilinear')\n",
    "    plt.axis('off')\n",
    "    plt.show()\n",
    "\n",
    "def getFavGenre(frame, plot=False):\n",
    "        frame.dropna(inplace=False)\n",
    "        all_genres = defaultdict(int)\n",
    "        \n",
    "        genres_list = []\n",
    "        for genres in frame['Genres']:\n",
    "            if isinstance(genres, str):\n",
    "                for genre in genres.split(','):\n",
    "                    genres_list.append(genre)\n",
    "                    all_genres[genre.strip()] += 1    \n",
    "        if plot:\n",
    "            showWordCloud(all_genres)\n",
    "        \n",
    "        return genres_list"
   ]
  },
  {
   "cell_type": "code",
   "execution_count": 96,
   "metadata": {
    "execution": {
     "iopub.execute_input": "2025-01-13T11:44:10.940068Z",
     "iopub.status.busy": "2025-01-13T11:44:10.939735Z",
     "iopub.status.idle": "2025-01-13T11:44:10.945715Z",
     "shell.execute_reply": "2025-01-13T11:44:10.944755Z",
     "shell.execute_reply.started": "2025-01-13T11:44:10.940046Z"
    },
    "trusted": true
   },
   "outputs": [],
   "source": []
  },
  {
   "cell_type": "code",
   "execution_count": 97,
   "metadata": {},
   "outputs": [],
   "source": [
    "def get_user_preferences(user_id, rating_df , df , verbose=0 , plot=False):\n",
    "\n",
    "    ## retrieves all anime that the user has rated.\n",
    "    animes_watched_by_user = rating_df[rating_df.user_id==user_id]\n",
    "\n",
    "    ## This means it finds the rating value that is higher than 75% of the ratings given by the user.\n",
    "    ## Basically it is finding top ratings by user...\n",
    "    user_rating_percentile = np.percentile(animes_watched_by_user.rating, 75)\n",
    "\n",
    "    ## Filters out all ratings below the 75th percentile, keeping only the user's highest-rated anime.\n",
    "    animes_watched_by_user = animes_watched_by_user[animes_watched_by_user.rating >= user_rating_percentile]\n",
    "\n",
    "    ## Sorts the user's top-rated anime in descending order of ratings.\n",
    "    top_animes_user = (\n",
    "        animes_watched_by_user.sort_values(by=\"rating\", ascending=False)#.head(10)\n",
    "        .anime_id.values\n",
    "    )\n",
    "    \n",
    "    ## Extract only those highly rated anime from main dataframe\n",
    "    anime_df_rows = df[df[\"anime_id\"].isin(top_animes_user)]\n",
    "    anime_df_rows = anime_df_rows[[\"eng_version\", \"Genres\"]]\n",
    "    \n",
    "    if verbose != 0:\n",
    "        print(\"> User #{} has rated {} movies (avg. rating = {:.1f})\".format(\n",
    "          user_id, len(animes_watched_by_user),\n",
    "          animes_watched_by_user['rating'].mean(),\n",
    "        ))\n",
    "    if plot:\n",
    "        getFavGenre(anime_df_rows, plot)\n",
    "                \n",
    "    return anime_df_rows"
   ]
  },
  {
   "cell_type": "code",
   "execution_count": 98,
   "metadata": {
    "execution": {
     "iopub.execute_input": "2025-01-13T11:45:22.318323Z",
     "iopub.status.busy": "2025-01-13T11:45:22.317928Z",
     "iopub.status.idle": "2025-01-13T11:45:22.823708Z",
     "shell.execute_reply": "2025-01-13T11:45:22.822853Z",
     "shell.execute_reply.started": "2025-01-13T11:45:22.318293Z"
    },
    "trusted": true
   },
   "outputs": [
    {
     "name": "stdout",
     "output_type": "stream",
     "text": [
      "> User #15829 has rated 112 movies (avg. rating = 0.7)\n"
     ]
    },
    {
     "data": {
      "image/png": "[encoded data removed]",
      "text/plain": [
       "<Figure size 1000x800 with 1 Axes>"
      ]
     },
     "metadata": {},
     "output_type": "display_data"
    },
    {
     "name": "stdout",
     "output_type": "stream",
     "text": [
      "> animes highly rated by this user\n"
     ]
    }
   ],
   "source": [
    "user_pref = get_user_preferences(random_user, rating_df, df, plot=True ,verbose=1)\n",
    "print('> animes highly rated by this user')\n"
   ]
  },
  {
   "cell_type": "code",
   "execution_count": 99,
   "metadata": {
    "execution": {
     "iopub.execute_input": "2025-01-13T11:46:13.331738Z",
     "iopub.status.busy": "2025-01-13T11:46:13.331346Z",
     "iopub.status.idle": "2025-01-13T11:46:13.340030Z",
     "shell.execute_reply": "2025-01-13T11:46:13.339209Z",
     "shell.execute_reply.started": "2025-01-13T11:46:13.331704Z"
    },
    "trusted": true
   },
   "outputs": [
    {
     "data": {
      "text/html": [
       "<div>\n",
       "<style scoped>\n",
       "    .dataframe tbody tr th:only-of-type {\n",
       "        vertical-align: middle;\n",
       "    }\n",
       "\n",
       "    .dataframe tbody tr th {\n",
       "        vertical-align: top;\n",
       "    }\n",
       "\n",
       "    .dataframe thead th {\n",
       "        text-align: right;\n",
       "    }\n",
       "</style>\n",
       "<table border=\"1\" class=\"dataframe\">\n",
       "  <thead>\n",
       "    <tr style=\"text-align: right;\">\n",
       "      <th></th>\n",
       "      <th>eng_version</th>\n",
       "      <th>Genres</th>\n",
       "    </tr>\n",
       "  </thead>\n",
       "  <tbody>\n",
       "    <tr>\n",
       "      <th>5683</th>\n",
       "      <td>Steins;Gate</td>\n",
       "      <td>Thriller, Sci-Fi</td>\n",
       "    </tr>\n",
       "    <tr>\n",
       "      <th>11308</th>\n",
       "      <td>Your Name.</td>\n",
       "      <td>Romance, Supernatural, School, Drama</td>\n",
       "    </tr>\n",
       "    <tr>\n",
       "      <th>176</th>\n",
       "      <td>Spirited Away</td>\n",
       "      <td>Adventure, Supernatural, Drama</td>\n",
       "    </tr>\n",
       "    <tr>\n",
       "      <th>239</th>\n",
       "      <td>Fighting Spirit</td>\n",
       "      <td>Comedy, Sports, Drama, Shounen</td>\n",
       "    </tr>\n",
       "    <tr>\n",
       "      <th>4970</th>\n",
       "      <td>The Disappearance of Haruhi Suzumiya</td>\n",
       "      <td>Comedy, Mystery, Romance, School, Sci-Fi, Supernatural</td>\n",
       "    </tr>\n",
       "  </tbody>\n",
       "</table>\n",
       "</div>"
      ],
      "text/plain": [
       "                                eng_version  \\\n",
       "5683                            Steins;Gate   \n",
       "11308                            Your Name.   \n",
       "176                           Spirited Away   \n",
       "239                         Fighting Spirit   \n",
       "4970   The Disappearance of Haruhi Suzumiya   \n",
       "\n",
       "                                                       Genres  \n",
       "5683                                         Thriller, Sci-Fi  \n",
       "11308                    Romance, Supernatural, School, Drama  \n",
       "176                            Adventure, Supernatural, Drama  \n",
       "239                            Comedy, Sports, Drama, Shounen  \n",
       "4970   Comedy, Mystery, Romance, School, Sci-Fi, Supernatural  "
      ]
     },
     "execution_count": 99,
     "metadata": {},
     "output_type": "execute_result"
    }
   ],
   "source": [
    "pd.DataFrame(user_pref).head(5)"
   ]
  },
  {
   "cell_type": "markdown",
   "metadata": {},
   "source": [
    "## Recommending anime for user ( USER-BASED )"
   ]
  },
  {
   "cell_type": "code",
   "execution_count": 100,
   "metadata": {
    "execution": {
     "iopub.execute_input": "2025-01-13T11:47:22.400659Z",
     "iopub.status.busy": "2025-01-13T11:47:22.400288Z",
     "iopub.status.idle": "2025-01-13T11:47:22.407010Z",
     "shell.execute_reply": "2025-01-13T11:47:22.406151Z",
     "shell.execute_reply.started": "2025-01-13T11:47:22.400606Z"
    },
    "trusted": true
   },
   "outputs": [],
   "source": [
    "def get_top_recommended_animes(similar_users, user_pref, df, synopsis_df, rating_df, n=10):\n",
    "    recommended_animes = []\n",
    "    anime_list = []\n",
    "\n",
    "    ## Loop through Similar Users\n",
    "    for user_id in similar_users.similar_users.values:\n",
    "        pref_list = get_user_preferences(int(user_id), rating_df, df, verbose=0)\n",
    "\n",
    "        # Filter out animes already rated by the current user\n",
    "        pref_list = pref_list[~pref_list.eng_version.isin(user_pref.eng_version.values)]\n",
    "\n",
    "        if not pref_list.empty:\n",
    "            anime_list.append(pref_list.eng_version.values)\n",
    "\n",
    "    if anime_list:\n",
    "        anime_list = pd.DataFrame(anime_list)\n",
    "        \n",
    "        # Get the top n recommended animes\n",
    "        sorted_list = pd.DataFrame(pd.Series(anime_list.values.ravel()).value_counts()).head(n)\n",
    "\n",
    "        for i, anime_name in enumerate(sorted_list.index):\n",
    "            n_user_pref = sorted_list[sorted_list.index == anime_name].values[0][0]\n",
    "            if isinstance(anime_name, str):\n",
    "                try:\n",
    "                    frame = getAnimeFrame(anime_name, df)\n",
    "                    anime_id = frame.anime_id.values[0]\n",
    "                    genre = frame.Genres.values[0]\n",
    "                    sypnopsis = getSypnopsis(int(anime_id), synopsis_df)\n",
    "                    recommended_animes.append({\n",
    "                        \"n\": n_user_pref,\n",
    "                        \"anime_name\": anime_name,\n",
    "                        \"Genres\": genre,\n",
    "                        \"sypnopsis\": sypnopsis\n",
    "                    })\n",
    "                except Exception as e:\n",
    "                    print(f\"Error fetching details for {anime_name}: {e}\")\n",
    "\n",
    "    return pd.DataFrame(recommended_animes).head(n)  # Only return the top n recommendations\n"
   ]
  },
  {
   "cell_type": "code",
   "execution_count": 101,
   "metadata": {
    "execution": {
     "iopub.execute_input": "2025-01-13T11:47:35.488331Z",
     "iopub.status.busy": "2025-01-13T11:47:35.488009Z",
     "iopub.status.idle": "2025-01-13T11:47:36.078268Z",
     "shell.execute_reply": "2025-01-13T11:47:36.077363Z",
     "shell.execute_reply.started": "2025-01-13T11:47:35.488307Z"
    },
    "trusted": true
   },
   "outputs": [
    {
     "name": "stdout",
     "output_type": "stream",
     "text": [
      "\n",
      "> Top recommendations for user: 15829\n"
     ]
    },
    {
     "data": {
      "text/html": [
       "<div>\n",
       "<style scoped>\n",
       "    .dataframe tbody tr th:only-of-type {\n",
       "        vertical-align: middle;\n",
       "    }\n",
       "\n",
       "    .dataframe tbody tr th {\n",
       "        vertical-align: top;\n",
       "    }\n",
       "\n",
       "    .dataframe thead th {\n",
       "        text-align: right;\n",
       "    }\n",
       "</style>\n",
       "<table border=\"1\" class=\"dataframe\">\n",
       "  <thead>\n",
       "    <tr style=\"text-align: right;\">\n",
       "      <th></th>\n",
       "      <th>n</th>\n",
       "      <th>anime_name</th>\n",
       "      <th>Genres</th>\n",
       "      <th>sypnopsis</th>\n",
       "    </tr>\n",
       "  </thead>\n",
       "  <tbody>\n",
       "    <tr>\n",
       "      <th>0</th>\n",
       "      <td>5</td>\n",
       "      <td>Hunter x Hunter</td>\n",
       "      <td>Action, Adventure, Fantasy, Shounen, Super Power</td>\n",
       "      <td>Hunter x Hunter is set in a world where Hunters exist to perform all manner of dangerous tasks like capturing criminals and bravely searching for lost treasures in uncharted territories. Twelve-year-old Gon Freecss is determined to become the best Hunter possible in hopes of finding his father, who was a Hunter himself and had long ago abandoned his young son. However, Gon soon realizes the path to achieving his goals is far more challenging than he could have ever imagined. Along the way to becoming an official Hunter, Gon befriends the lively doctor-in-training Leorio, vengeful Kurapika, and rebellious ex-assassin Killua. To attain their own goals and desires, together the four of them take the Hunter Exam, notorious for its low success rate and high probability of death. Throughout their journey, Gon and his friends embark on an adventure that puts them through many hardships and struggles. They will meet a plethora of monsters, creatures, and characters—all while learning what being a Hunter truly means.</td>\n",
       "    </tr>\n",
       "    <tr>\n",
       "      <th>1</th>\n",
       "      <td>4</td>\n",
       "      <td>Bakuman.</td>\n",
       "      <td>Comedy, Drama, Romance, Shounen</td>\n",
       "      <td>Onto their third serialization, manga duo Moritaka Mashiro and Akito Takagi—also known by their pen name, Muto Ashirogi—are ever closer to their dream of an anime adaption. However, the real challenge is only just beginning: if they are unable to compete with the artist Eiji Niizuma in the rankings within the span of six months, they will be canceled. To top it off, numerous rivals are close behind and declaring war. They don't even have enough time to spare thinking about an anime! In Bakuman. 3rd Season , Muto Ashirogi must find a way to stay atop the colossal mountain known as the Shounen Jack rankings. With new problems and new assistants, the pair continue to strive for their dream.</td>\n",
       "    </tr>\n",
       "    <tr>\n",
       "      <th>2</th>\n",
       "      <td>4</td>\n",
       "      <td>Golden Time</td>\n",
       "      <td>Comedy, Drama, Romance</td>\n",
       "      <td>Due to a tragic accident, Banri Tada is struck with amnesia, dissolving the memories of his hometown and past. However, after befriending Mitsuo Yanagisawa, he decides to move on and begin a new life at law school in Tokyo. But just as he is beginning to adjust to his college life, the beautiful Kouko Kaga dramatically barges into Banri's life, and their chance meeting marks the beginning of an unforgettable year. After having a glimpse of college life, Banri learns that he is in a new place and a new world—a place where he can be reborn, to have new friends, fall in love, makes mistakes and grow. And as he begins to discover who he was, the path he has chosen leads him towards a blindingly bright life that he will never want to forget.</td>\n",
       "    </tr>\n",
       "    <tr>\n",
       "      <th>3</th>\n",
       "      <td>4</td>\n",
       "      <td>Tokyo Ghoul</td>\n",
       "      <td>Action, Mystery, Horror, Psychological, Supernatural, Drama, Seinen</td>\n",
       "      <td>Tokyo has become a cruel and merciless city—a place where vicious creatures called \"ghouls\" exist alongside humans. The citizens of this once great metropolis live in constant fear of these bloodthirsty savages and their thirst for human flesh. However, the greatest threat these ghouls pose is their dangerous ability to masquerade as humans and blend in with society. Based on the best-selling supernatural horror manga by Sui Ishida, Tokyo Ghoul follows Ken Kaneki, a shy, bookish college student, who is instantly drawn to Rize Kamishiro, an avid reader like himself. However, Rize is not exactly who she seems, and this unfortunate meeting pushes Kaneki into the dark depths of the ghouls' inhuman world. In a twist of fate, Kaneki is saved by the enigmatic waitress Touka Kirishima, and thus begins his new, secret life as a half-ghoul/half-human who must find a way to integrate into both societies.</td>\n",
       "    </tr>\n",
       "    <tr>\n",
       "      <th>4</th>\n",
       "      <td>4</td>\n",
       "      <td>Love, Chunibyo &amp; Other Delusions!</td>\n",
       "      <td>Slice of Life, Comedy, Drama, Romance, School</td>\n",
       "      <td>Everybody has had that stage in their life where they have thought themselves to be special, different from the masses of ordinary humans. They might go as far as seeing themselves capable of wielding mystical powers, or maybe even believe themselves to have descended from a fantasy realm. This \"disease\" is known as \"chuunibyou\" and is often the source of some of the most embarrassing moments of a person's life. For Yuuta Togashi, the scars that his chuunibyou has left behind are still fresh. Having posed as the \"Dark Flame Master\" during his middle school years, he looks back at those times with extreme embarrassment, so much so that he decides to attend a high school far away where nobody will recognize him. Putting his dark history behind him, he longs to live a normal high school life. Unfortunately, he hasn't escaped his past yet: enter Rikka Takanashi, Yuuta's new classmate and self-declared vessel of the \"Wicked Eye.\" As this eccentric young girl crashes into Yuuta's life, his dream of an ordinary, chuunibyou-free life quickly crumbles away. In this hilarious and heartwarming story of a boy who just wants to leave his embarrassing memories behind, the delusions of old are far from a thing of the past.</td>\n",
       "    </tr>\n",
       "    <tr>\n",
       "      <th>5</th>\n",
       "      <td>3</td>\n",
       "      <td>Death Parade</td>\n",
       "      <td>Game, Mystery, Psychological, Drama, Thriller</td>\n",
       "      <td>fter death, there is no heaven or hell, only a bar that stands between reincarnation and oblivion. There the attendant will, one after another, challenge pairs of the recently deceased to a random game in which their fate of either ascending into reincarnation or falling into the void will be wagered. Whether it's bowling, darts, air hockey, or anything in between, each person's true nature will be revealed in a ghastly parade of death and memories, dancing to the whims of the bar's master. Welcome to Quindecim, where Decim, arbiter of the afterlife, awaits! Death Parade expands upon the original one-shot intended to train young animators. It follows yet more people receiving judgment—until a strange, black-haired guest causes Decim to begin questioning his own rulings.</td>\n",
       "    </tr>\n",
       "    <tr>\n",
       "      <th>6</th>\n",
       "      <td>3</td>\n",
       "      <td>KONOSUBA -God's blessing on this wonderful world!- Legend of Crimson</td>\n",
       "      <td>Adventure, Comedy, Fantasy, Magic, Parody, Supernatural</td>\n",
       "      <td>It is not strange that the Demon Lord's forces fear the Crimson Demons, the clan from which Megumin and Yunyun originate. Even if the Demon Lord's generals attack their village, the Crimson Demons can just easily brush them off with their supreme mastery of advanced and overpowered magic. When Yunyun receives a seemingly serious letter regarding a potential disaster coming to her hometown, she immediately informs Kazuma Satou and the rest of his party. After a series of wacky misunderstandings, it turns out to be a mere prank by her fellow demon who wants to be an author. Even so, Megumin becomes worried about her family and sets out toward the Crimson Demons' village with the gang. There, Kazuma and the others decide to sightsee the wonders of Megumin's birthplace. However, they soon come to realize that the nonsense threat they received might have been more than just a joke.</td>\n",
       "    </tr>\n",
       "    <tr>\n",
       "      <th>7</th>\n",
       "      <td>3</td>\n",
       "      <td>Natsume's Book of Friends Season 2</td>\n",
       "      <td>Slice of Life, Demons, Supernatural, Drama, Shoujo</td>\n",
       "      <td>s with its prequel, Zoku Natsume Yuujinchou is about Takashi Natsume, a boy who has had the ability to see youkai since he was young, and his bodyguard youkai Madara, nicknamed Nyanko-sensei. Natsume attempts to return names written in his \"Book of Friends\" (which he inherited from his grandmother Reiko) to youkai in his village. Throughout these adventures, he meets some youkai that are friendly, some that want to steal the Book, and some that want to kill him, as Natsume learns about himself and his relationship with these mysterious beings along the way.</td>\n",
       "    </tr>\n",
       "    <tr>\n",
       "      <th>8</th>\n",
       "      <td>3</td>\n",
       "      <td>Natsume's Book of Friends Season 4</td>\n",
       "      <td>Slice of Life, Demons, Supernatural, Drama, Shoujo</td>\n",
       "      <td>Takashi Natsume, the timid youkai expert and master of the Book of Friends, continues his journey towards self-understanding and acceptance with the help of friends both new and old. His most important ally is still his gluttonous and sake-loving bodyguard, the arrogant but fiercely protective wolf spirit Madara—or Nyanko-sensei, as Madara is called when in his usual disguise of an unassuming, pudgy cat. Natsume, while briefly separated from Nyanko-sensei, is ambushed and kidnapped by a strange group of masked, monkey-like youkai, who have spirited him away to their forest as they desperately search for the Book of Friends. Realizing that his \"servant\" has been taken out from right under his nose, Nyanko-sensei enlists the help of Natsume's youkai friends and mounts a rescue operation. However, the forest of the monkey spirits holds many dangerous enemies, including the Matoba Clan, Natsume's old nemesis. Stretching from the formidable hideout of the Matoba to Natsume's own childhood home, Natsume Yuujinchou Shi is a sweeping but familiar return to a world of danger and friendship, where Natsume will finally confront the demons of his own past.</td>\n",
       "    </tr>\n",
       "    <tr>\n",
       "      <th>9</th>\n",
       "      <td>3</td>\n",
       "      <td>Natsume's Book of Friends Season 3</td>\n",
       "      <td>Slice of Life, Demons, Supernatural, Drama, Shoujo</td>\n",
       "      <td>Natsume Yuujinchou San follows Takashi Natsume, a boy who is able to see youkai. Natsume and his bodyguard Madara, nicknamed Nyanko-sensei, continue on their quest to release youkai from their contracts in the \"Book of Friends.\" Natsume comes to terms with his ability to see youkai and stops thinking of it as a curse. As he spends more time with his human and youkai friends, he realizes how much he values them both and decides he doesn't have to choose between the spirit and human worlds to be happy.</td>\n",
       "    </tr>\n",
       "  </tbody>\n",
       "</table>\n",
       "</div>"
      ],
      "text/plain": [
       "   n                                                            anime_name  \\\n",
       "0  5                                                       Hunter x Hunter   \n",
       "1  4                                                              Bakuman.   \n",
       "2  4                                                           Golden Time   \n",
       "3  4                                                           Tokyo Ghoul   \n",
       "4  4                                     Love, Chunibyo & Other Delusions!   \n",
       "5  3                                                          Death Parade   \n",
       "6  3  KONOSUBA -God's blessing on this wonderful world!- Legend of Crimson   \n",
       "7  3                                    Natsume's Book of Friends Season 2   \n",
       "8  3                                    Natsume's Book of Friends Season 4   \n",
       "9  3                                    Natsume's Book of Friends Season 3   \n",
       "\n",
       "                                                                Genres  \\\n",
       "0                     Action, Adventure, Fantasy, Shounen, Super Power   \n",
       "1                                      Comedy, Drama, Romance, Shounen   \n",
       "2                                               Comedy, Drama, Romance   \n",
       "3  Action, Mystery, Horror, Psychological, Supernatural, Drama, Seinen   \n",
       "4                        Slice of Life, Comedy, Drama, Romance, School   \n",
       "5                        Game, Mystery, Psychological, Drama, Thriller   \n",
       "6              Adventure, Comedy, Fantasy, Magic, Parody, Supernatural   \n",
       "7                   Slice of Life, Demons, Supernatural, Drama, Shoujo   \n",
       "8                   Slice of Life, Demons, Supernatural, Drama, Shoujo   \n",
       "9                   Slice of Life, Demons, Supernatural, Drama, Shoujo   \n",
       "\n",
       "                                                                                                                                                                                                                                                                                                                                                                                                                                                                                                                                                                                                                                                                                                                                                                                                                                                                                                                                                                                                                                                                                                                                                                                                                                                                     sypnopsis  \n",
       "0                                                                                                                                                                                                              Hunter x Hunter is set in a world where Hunters exist to perform all manner of dangerous tasks like capturing criminals and bravely searching for lost treasures in uncharted territories. Twelve-year-old Gon Freecss is determined to become the best Hunter possible in hopes of finding his father, who was a Hunter himself and had long ago abandoned his young son. However, Gon soon realizes the path to achieving his goals is far more challenging than he could have ever imagined. Along the way to becoming an official Hunter, Gon befriends the lively doctor-in-training Leorio, vengeful Kurapika, and rebellious ex-assassin Killua. To attain their own goals and desires, together the four of them take the Hunter Exam, notorious for its low success rate and high probability of death. Throughout their journey, Gon and his friends embark on an adventure that puts them through many hardships and struggles. They will meet a plethora of monsters, creatures, and characters—all while learning what being a Hunter truly means.  \n",
       "1                                                                                                                                                                                                                                                                                                                                                                                                                                                                                                                                                     Onto their third serialization, manga duo Moritaka Mashiro and Akito Takagi—also known by their pen name, Muto Ashirogi—are ever closer to their dream of an anime adaption. However, the real challenge is only just beginning: if they are unable to compete with the artist Eiji Niizuma in the rankings within the span of six months, they will be canceled. To top it off, numerous rivals are close behind and declaring war. They don't even have enough time to spare thinking about an anime! In Bakuman. 3rd Season , Muto Ashirogi must find a way to stay atop the colossal mountain known as the Shounen Jack rankings. With new problems and new assistants, the pair continue to strive for their dream.  \n",
       "2                                                                                                                                                                                                                                                                                                                                                                                                                                                                                                   Due to a tragic accident, Banri Tada is struck with amnesia, dissolving the memories of his hometown and past. However, after befriending Mitsuo Yanagisawa, he decides to move on and begin a new life at law school in Tokyo. But just as he is beginning to adjust to his college life, the beautiful Kouko Kaga dramatically barges into Banri's life, and their chance meeting marks the beginning of an unforgettable year. After having a glimpse of college life, Banri learns that he is in a new place and a new world—a place where he can be reborn, to have new friends, fall in love, makes mistakes and grow. And as he begins to discover who he was, the path he has chosen leads him towards a blindingly bright life that he will never want to forget.  \n",
       "3                                                                                                                                                                                                                                                                                                                                   Tokyo has become a cruel and merciless city—a place where vicious creatures called \"ghouls\" exist alongside humans. The citizens of this once great metropolis live in constant fear of these bloodthirsty savages and their thirst for human flesh. However, the greatest threat these ghouls pose is their dangerous ability to masquerade as humans and blend in with society. Based on the best-selling supernatural horror manga by Sui Ishida, Tokyo Ghoul follows Ken Kaneki, a shy, bookish college student, who is instantly drawn to Rize Kamishiro, an avid reader like himself. However, Rize is not exactly who she seems, and this unfortunate meeting pushes Kaneki into the dark depths of the ghouls' inhuman world. In a twist of fate, Kaneki is saved by the enigmatic waitress Touka Kirishima, and thus begins his new, secret life as a half-ghoul/half-human who must find a way to integrate into both societies.  \n",
       "4  Everybody has had that stage in their life where they have thought themselves to be special, different from the masses of ordinary humans. They might go as far as seeing themselves capable of wielding mystical powers, or maybe even believe themselves to have descended from a fantasy realm. This \"disease\" is known as \"chuunibyou\" and is often the source of some of the most embarrassing moments of a person's life. For Yuuta Togashi, the scars that his chuunibyou has left behind are still fresh. Having posed as the \"Dark Flame Master\" during his middle school years, he looks back at those times with extreme embarrassment, so much so that he decides to attend a high school far away where nobody will recognize him. Putting his dark history behind him, he longs to live a normal high school life. Unfortunately, he hasn't escaped his past yet: enter Rikka Takanashi, Yuuta's new classmate and self-declared vessel of the \"Wicked Eye.\" As this eccentric young girl crashes into Yuuta's life, his dream of an ordinary, chuunibyou-free life quickly crumbles away. In this hilarious and heartwarming story of a boy who just wants to leave his embarrassing memories behind, the delusions of old are far from a thing of the past.  \n",
       "5                                                                                                                                                                                                                                                                                                                                                                                                                                                                 fter death, there is no heaven or hell, only a bar that stands between reincarnation and oblivion. There the attendant will, one after another, challenge pairs of the recently deceased to a random game in which their fate of either ascending into reincarnation or falling into the void will be wagered. Whether it's bowling, darts, air hockey, or anything in between, each person's true nature will be revealed in a ghastly parade of death and memories, dancing to the whims of the bar's master. Welcome to Quindecim, where Decim, arbiter of the afterlife, awaits! Death Parade expands upon the original one-shot intended to train young animators. It follows yet more people receiving judgment—until a strange, black-haired guest causes Decim to begin questioning his own rulings.  \n",
       "6                                                                                                                                                                                                                                                                                                                                                    It is not strange that the Demon Lord's forces fear the Crimson Demons, the clan from which Megumin and Yunyun originate. Even if the Demon Lord's generals attack their village, the Crimson Demons can just easily brush them off with their supreme mastery of advanced and overpowered magic. When Yunyun receives a seemingly serious letter regarding a potential disaster coming to her hometown, she immediately informs Kazuma Satou and the rest of his party. After a series of wacky misunderstandings, it turns out to be a mere prank by her fellow demon who wants to be an author. Even so, Megumin becomes worried about her family and sets out toward the Crimson Demons' village with the gang. There, Kazuma and the others decide to sightsee the wonders of Megumin's birthplace. However, they soon come to realize that the nonsense threat they received might have been more than just a joke.  \n",
       "7                                                                                                                                                                                                                                                                                                                                                                                                                                                                                                                                                                                                                                                                                          s with its prequel, Zoku Natsume Yuujinchou is about Takashi Natsume, a boy who has had the ability to see youkai since he was young, and his bodyguard youkai Madara, nicknamed Nyanko-sensei. Natsume attempts to return names written in his \"Book of Friends\" (which he inherited from his grandmother Reiko) to youkai in his village. Throughout these adventures, he meets some youkai that are friendly, some that want to steal the Book, and some that want to kill him, as Natsume learns about himself and his relationship with these mysterious beings along the way.  \n",
       "8                                                                   Takashi Natsume, the timid youkai expert and master of the Book of Friends, continues his journey towards self-understanding and acceptance with the help of friends both new and old. His most important ally is still his gluttonous and sake-loving bodyguard, the arrogant but fiercely protective wolf spirit Madara—or Nyanko-sensei, as Madara is called when in his usual disguise of an unassuming, pudgy cat. Natsume, while briefly separated from Nyanko-sensei, is ambushed and kidnapped by a strange group of masked, monkey-like youkai, who have spirited him away to their forest as they desperately search for the Book of Friends. Realizing that his \"servant\" has been taken out from right under his nose, Nyanko-sensei enlists the help of Natsume's youkai friends and mounts a rescue operation. However, the forest of the monkey spirits holds many dangerous enemies, including the Matoba Clan, Natsume's old nemesis. Stretching from the formidable hideout of the Matoba to Natsume's own childhood home, Natsume Yuujinchou Shi is a sweeping but familiar return to a world of danger and friendship, where Natsume will finally confront the demons of his own past.  \n",
       "9                                                                                                                                                                                                                                                                                                                                                                                                                                                                                                                                                                                                                                                                                                                                                    Natsume Yuujinchou San follows Takashi Natsume, a boy who is able to see youkai. Natsume and his bodyguard Madara, nicknamed Nyanko-sensei, continue on their quest to release youkai from their contracts in the \"Book of Friends.\" Natsume comes to terms with his ability to see youkai and stops thinking of it as a curse. As he spends more time with his human and youkai friends, he realizes how much he values them both and decides he doesn't have to choose between the spirit and human worlds to be happy.  "
      ]
     },
     "execution_count": 101,
     "metadata": {},
     "output_type": "execute_result"
    }
   ],
   "source": [
    "user_recs = get_top_recommended_animes(similar_users,user_pref,df,sypnopsis_df,rating_df, n=10)\n",
    "getFavGenre(user_recs, plot=False)\n",
    "\n",
    "print('\\n> Top recommendations for user: {}'.format(random_user))\n",
    "user_recs"
   ]
  },
  {
   "cell_type": "markdown",
   "metadata": {},
   "source": [
    "# FINAL RECOMMENDER ( HYBRID )"
   ]
  },
  {
   "cell_type": "code",
   "execution_count": null,
   "metadata": {},
   "outputs": [],
   "source": [
    "def hybrid_recommendation(user_id, user_weight=0.6, content_weight=0.4):\n",
    "    # Step 1: User-Based Recommendation\n",
    "    similar_users = find_similar_users(user_id, user_weights, user2user_encoded, user2user_decoded, n=5, neg=False)\n",
    "    user_pref = get_user_preferences(user_id, rating_df, df)\n",
    "    user_recommended_animes = get_top_recommended_animes(similar_users, user_pref, df, sypnopsis_df, rating_df, n=10)\n",
    "    \n",
    "    # Extract user-recommended anime names\n",
    "    user_recommended_animes_list = user_recommended_animes['anime_name'].tolist()\n",
    "    \n",
    "    # Step 2: Content-Based Recommendation\n",
    "    content_recommended_animes = []\n",
    "    for anime in user_recommended_animes_list:\n",
    "        similar_animes = find_similar_animes(anime, anime_weights, anime2anime_encoded, anime2anime_decoded, df, sypnopsis_df, n=5, neg=False)\n",
    "        if similar_animes is not None and not similar_animes.empty:  # Check if the result is valid\n",
    "            content_recommended_animes.extend(similar_animes['name'].tolist())  # Adjust column name as needed\n",
    "        else:\n",
    "            print(f\"No similar animes found for: {anime}\")\n",
    "    \n",
    "    # Step 3: Combine Recommendations with Weights\n",
    "    combined_scores = {}\n",
    "    \n",
    "    # Add user-based recommendations with weights\n",
    "    for anime in user_recommended_animes_list:\n",
    "        combined_scores[anime] = combined_scores.get(anime, 0) + user_weight\n",
    "    \n",
    "    # Add content-based recommendations with weights\n",
    "    for anime in content_recommended_animes:\n",
    "        combined_scores[anime] = combined_scores.get(anime, 0) + content_weight\n",
    "    \n",
    "    # Sort by combined score in descending order\n",
    "    sorted_animes = sorted(combined_scores.items(), key=lambda x: x[1], reverse=True)\n",
    "    \n",
    "    # Return top N recommendations\n",
    "    return [anime for anime, score in sorted_animes[:10]]"
   ]
  },
  {
   "cell_type": "code",
   "execution_count": null,
   "metadata": {
    "execution": {
     "iopub.execute_input": "2025-01-13T12:06:29.748508Z",
     "iopub.status.busy": "2025-01-13T12:06:29.748163Z",
     "iopub.status.idle": "2025-01-13T12:06:31.501482Z",
     "shell.execute_reply": "2025-01-13T12:06:31.500703Z",
     "shell.execute_reply.started": "2025-01-13T12:06:29.748484Z"
    },
    "trusted": true
   },
   "outputs": [],
   "source": []
  },
  {
   "cell_type": "code",
   "execution_count": 89,
   "metadata": {
    "trusted": true
   },
   "outputs": [
    {
     "name": "stdout",
     "output_type": "stream",
     "text": [
      "Showing hybrid recommendations for user: 16105\n",
      "===========================================================================\n",
      "\u001b[1m523/523\u001b[0m \u001b[32m━━━━━━━━━━━━━━━━━━━━\u001b[0m\u001b[37m\u001b[0m \u001b[1m1s\u001b[0m 1ms/step\n",
      "---------------------------------------------------------------------------\n",
      "> Top 10 hybrid anime recommendations\n",
      "---------------------------------------------------------------------------\n"
     ]
    },
    {
     "data": {
      "text/html": [
       "<div>\n",
       "<style scoped>\n",
       "    .dataframe tbody tr th:only-of-type {\n",
       "        vertical-align: middle;\n",
       "    }\n",
       "\n",
       "    .dataframe tbody tr th {\n",
       "        vertical-align: top;\n",
       "    }\n",
       "\n",
       "    .dataframe thead th {\n",
       "        text-align: right;\n",
       "    }\n",
       "</style>\n",
       "<table border=\"1\" class=\"dataframe\">\n",
       "  <thead>\n",
       "    <tr style=\"text-align: right;\">\n",
       "      <th></th>\n",
       "      <th>name</th>\n",
       "      <th>final_score</th>\n",
       "      <th>genre</th>\n",
       "      <th>sypnopsis</th>\n",
       "    </tr>\n",
       "  </thead>\n",
       "  <tbody>\n",
       "    <tr>\n",
       "      <th>0</th>\n",
       "      <td>Super Zugan</td>\n",
       "      <td>0.337129</td>\n",
       "      <td>Game, Comedy, Shounen</td>\n",
       "      <td>story about mahjong.</td>\n",
       "    </tr>\n",
       "    <tr>\n",
       "      <th>1</th>\n",
       "      <td>Peaceful Times (F02) Petit Film</td>\n",
       "      <td>0.335174</td>\n",
       "      <td>Music</td>\n",
       "      <td>The short features previously unseen Evangelion storyboard art. Evangelion director Hideaki Anno supervised the \"petit film,\" and Mahiro Maeda directed and storyboarded it. Shiro Sagisu provided the music, and voice actress Megumi Hayashibara narrates the Japanese version of the English lyrics. Sagisu made a few comments about the video on his website and posted the Japanese version of the lyrics. According to Sagisu, when they were finishing work on Q, Anno told him this would be the last time they used the F2 (Next Episode) theme, which made Sagisu want to make a extended version of it. He says the video actually contains four versions of the song: An unreleased version by the London Studio Orchestra (at the start), the Takahashi version from Xpressions, the version from Piano Forte #1, and Hayashibara’s narrated version. (Source: AniDB)</td>\n",
       "    </tr>\n",
       "    <tr>\n",
       "      <th>2</th>\n",
       "      <td>Flash &amp; Dash 2</td>\n",
       "      <td>0.333808</td>\n",
       "      <td>Cars, Kids</td>\n",
       "      <td>The second season of Lei Su Deng Shandian Chong Xian .</td>\n",
       "    </tr>\n",
       "    <tr>\n",
       "      <th>3</th>\n",
       "      <td>Genbanojou</td>\n",
       "      <td>0.332437</td>\n",
       "      <td>NaN</td>\n",
       "      <td>In a cone-shaped land named Kikyougahara in Shin Province, there lives a girl named Hana. She is a gentle girl, who always thinks of her family, in particular her great-grandmother Chiyo, whom she affectionately calls \"Granny.\" One day, a traveling entertainment troupe named the Natsugawa Genzaemon Troupe happens by, and the villagers welcome them warmly. Upon finishing their performance and receiving their acclaim, the troupe's leader spots Hana with some \"oyaki,\" his favorite food, and transforms into a fox in his excitement. It turns out that the leader Genbanojou, and his companions O-Natsu and Shinzaemon, are all foxes who have taken on human forms. Genbanojou hastily negotiates with Hana, telling her that in exchange for keeping their secret, he will grant her one wish. She answers, \"I want to let my Granny see the cherry blossoms.\" (Source: ANN)</td>\n",
       "    </tr>\n",
       "    <tr>\n",
       "      <th>4</th>\n",
       "      <td>Fighting Spirit:Champion Road</td>\n",
       "      <td>0.331361</td>\n",
       "      <td>Comedy, Shounen, Sports</td>\n",
       "      <td>The challenger has become the champion as Ippo Makunouchi now wears the featherweight championship belt of Japan. Some time has passed since Ippo's victory, and he has found his friends and coach as supportive as ever; his crush, Kumi Mashiba, seems to enjoy spending time with him as well. Things are looking bright for the new champion, but just as he once set his sights on becoming the best, his first challenger poses an intimidating threat. Kazuki Sanada works as a doctor at the same hospital as Kumi and fights strategically. Known for integrating his knowledge of the human body into his fights, Sanada is a fearsome contender—however, more unnerving than his physical ability, he has garnered the support of the nurses. Despite being the champion, Ippo feels the pressure as he must face the daunting challenge, retain his belt, and win over the girl he loves.</td>\n",
       "    </tr>\n",
       "    <tr>\n",
       "      <th>5</th>\n",
       "      <td>Peng Ran Xindong</td>\n",
       "      <td>0.329981</td>\n",
       "      <td>Slice of Life, Romance, Shoujo</td>\n",
       "      <td>Young boys and girls live under one roof and experience the ignorance and troubles of youth. The super-popular girl who is warm in style feels the bud of youthfulness, this one is enough! (Source: Yualexius)</td>\n",
       "    </tr>\n",
       "    <tr>\n",
       "      <th>6</th>\n",
       "      <td>Ghost in the Shell:Ghost Chaser</td>\n",
       "      <td>0.328735</td>\n",
       "      <td>Action, Sci-Fi, Police, Seinen</td>\n",
       "      <td>de-like VR attraction. The ride will debut at the \"hexaRide\" attraction area of the renewed Diver City Tokyo Plaza. The ride attraction allows up to 12 people to ride at the same time using Q-Ride equipment with six-directional movement, and VR headsets. The ride costs 1,000 yen (about US$9) per person. This story is set in the Kuzan Republic. The defense minister, who will take part in a meeting of the Next-generation Weapon Coordination Council, has ordered an advance onsite inspection. Ride participants are tasked with providing escort while securing an inspection route in Public Security Section 9, where Motoko Kusanagi serves as leader. Riders will use the hexaRide vehicle to enter cyberspace and, serving as a Public Security Section 9 agent, join in an attack on revolutionary movement forces. (Source: ANN)</td>\n",
       "    </tr>\n",
       "    <tr>\n",
       "      <th>7</th>\n",
       "      <td>Chain Chronicle:The Light of Haecceitas Part 2</td>\n",
       "      <td>0.327909</td>\n",
       "      <td>Action, Adventure, Fantasy, Magic, Shounen</td>\n",
       "      <td>Set in the land of Yuguto, the people thought that the land they live is the size of the world, but it’s actually divided into several areas, each with a respective king. Even though there were small wars among areas, the kings had roundtable meetings to maintain peace and balance. It was until a dark group of dark monsters appeared... (Source: MAL News)</td>\n",
       "    </tr>\n",
       "    <tr>\n",
       "      <th>8</th>\n",
       "      <td>Tensai Bakavon: Yomigaeru Flanders no Inu</td>\n",
       "      <td>0.325935</td>\n",
       "      <td>Comedy, Parody</td>\n",
       "      <td>No synopsis information has been added to this title. Help improve our database by adding a synopsis here .</td>\n",
       "    </tr>\n",
       "    <tr>\n",
       "      <th>9</th>\n",
       "      <td>Rail Romanesque 2nd Season</td>\n",
       "      <td>0.325616</td>\n",
       "      <td>Slice of Life</td>\n",
       "      <td>Second season of Rail Romanesque .</td>\n",
       "    </tr>\n",
       "  </tbody>\n",
       "</table>\n",
       "</div>"
      ],
      "text/plain": [
       "                                             name  final_score  \\\n",
       "0                                     Super Zugan     0.337129   \n",
       "1                 Peaceful Times (F02) Petit Film     0.335174   \n",
       "2                                  Flash & Dash 2     0.333808   \n",
       "3                                      Genbanojou     0.332437   \n",
       "4                   Fighting Spirit:Champion Road     0.331361   \n",
       "5                                Peng Ran Xindong     0.329981   \n",
       "6                 Ghost in the Shell:Ghost Chaser     0.328735   \n",
       "7  Chain Chronicle:The Light of Haecceitas Part 2     0.327909   \n",
       "8       Tensai Bakavon: Yomigaeru Flanders no Inu     0.325935   \n",
       "9                      Rail Romanesque 2nd Season     0.325616   \n",
       "\n",
       "                                        genre  \\\n",
       "0                       Game, Comedy, Shounen   \n",
       "1                                       Music   \n",
       "2                                  Cars, Kids   \n",
       "3                                         NaN   \n",
       "4                     Comedy, Shounen, Sports   \n",
       "5              Slice of Life, Romance, Shoujo   \n",
       "6              Action, Sci-Fi, Police, Seinen   \n",
       "7  Action, Adventure, Fantasy, Magic, Shounen   \n",
       "8                              Comedy, Parody   \n",
       "9                               Slice of Life   \n",
       "\n",
       "                                                                                                                                                                                                                                                                                                                                                                                                                                                                                                                                                                                                                                                                                                                                                                                                                                                                                                sypnopsis  \n",
       "0                                                                                                                                                                                                                                                                                                                                                                                                                                                                                                                                                                                                                                                                                                                                                                                                                                                                                    story about mahjong.  \n",
       "1                     The short features previously unseen Evangelion storyboard art. Evangelion director Hideaki Anno supervised the \"petit film,\" and Mahiro Maeda directed and storyboarded it. Shiro Sagisu provided the music, and voice actress Megumi Hayashibara narrates the Japanese version of the English lyrics. Sagisu made a few comments about the video on his website and posted the Japanese version of the lyrics. According to Sagisu, when they were finishing work on Q, Anno told him this would be the last time they used the F2 (Next Episode) theme, which made Sagisu want to make a extended version of it. He says the video actually contains four versions of the song: An unreleased version by the London Studio Orchestra (at the start), the Takahashi version from Xpressions, the version from Piano Forte #1, and Hayashibara’s narrated version. (Source: AniDB)  \n",
       "2                                                                                                                                                                                                                                                                                                                                                                                                                                                                                                                                                                                                                                                                                                                                                                                                                                                  The second season of Lei Su Deng Shandian Chong Xian .  \n",
       "3        In a cone-shaped land named Kikyougahara in Shin Province, there lives a girl named Hana. She is a gentle girl, who always thinks of her family, in particular her great-grandmother Chiyo, whom she affectionately calls \"Granny.\" One day, a traveling entertainment troupe named the Natsugawa Genzaemon Troupe happens by, and the villagers welcome them warmly. Upon finishing their performance and receiving their acclaim, the troupe's leader spots Hana with some \"oyaki,\" his favorite food, and transforms into a fox in his excitement. It turns out that the leader Genbanojou, and his companions O-Natsu and Shinzaemon, are all foxes who have taken on human forms. Genbanojou hastily negotiates with Hana, telling her that in exchange for keeping their secret, he will grant her one wish. She answers, \"I want to let my Granny see the cherry blossoms.\" (Source: ANN)  \n",
       "4  The challenger has become the champion as Ippo Makunouchi now wears the featherweight championship belt of Japan. Some time has passed since Ippo's victory, and he has found his friends and coach as supportive as ever; his crush, Kumi Mashiba, seems to enjoy spending time with him as well. Things are looking bright for the new champion, but just as he once set his sights on becoming the best, his first challenger poses an intimidating threat. Kazuki Sanada works as a doctor at the same hospital as Kumi and fights strategically. Known for integrating his knowledge of the human body into his fights, Sanada is a fearsome contender—however, more unnerving than his physical ability, he has garnered the support of the nurses. Despite being the champion, Ippo feels the pressure as he must face the daunting challenge, retain his belt, and win over the girl he loves.  \n",
       "5                                                                                                                                                                                                                                                                                                                                                                                                                                                                                                                                                                                                                                                                                         Young boys and girls live under one roof and experience the ignorance and troubles of youth. The super-popular girl who is warm in style feels the bud of youthfulness, this one is enough! (Source: Yualexius)  \n",
       "6                                                 de-like VR attraction. The ride will debut at the \"hexaRide\" attraction area of the renewed Diver City Tokyo Plaza. The ride attraction allows up to 12 people to ride at the same time using Q-Ride equipment with six-directional movement, and VR headsets. The ride costs 1,000 yen (about US$9) per person. This story is set in the Kuzan Republic. The defense minister, who will take part in a meeting of the Next-generation Weapon Coordination Council, has ordered an advance onsite inspection. Ride participants are tasked with providing escort while securing an inspection route in Public Security Section 9, where Motoko Kusanagi serves as leader. Riders will use the hexaRide vehicle to enter cyberspace and, serving as a Public Security Section 9 agent, join in an attack on revolutionary movement forces. (Source: ANN)  \n",
       "7                                                                                                                                                                                                                                                                                                                                                                                                                                                                                                                                    Set in the land of Yuguto, the people thought that the land they live is the size of the world, but it’s actually divided into several areas, each with a respective king. Even though there were small wars among areas, the kings had roundtable meetings to maintain peace and balance. It was until a dark group of dark monsters appeared... (Source: MAL News)  \n",
       "8                                                                                                                                                                                                                                                                                                                                                                                                                                                                                                                                                                                                                                                                                                                                                                                             No synopsis information has been added to this title. Help improve our database by adding a synopsis here .  \n",
       "9                                                                                                                                                                                                                                                                                                                                                                                                                                                                                                                                                                                                                                                                                                                                                                                                                                                                      Second season of Rail Romanesque .  "
      ]
     },
     "execution_count": 89,
     "metadata": {},
     "output_type": "execute_result"
    }
   ],
   "source": []
  },
  {
   "cell_type": "code",
   "execution_count": null,
   "metadata": {},
   "outputs": [],
   "source": []
  }
 ],
 "metadata": {
  "kaggle": {
   "accelerator": "gpu",
   "dataSources": [
    {
     "datasetId": 1225408,
     "sourceId": 2422513,
     "sourceType": "datasetVersion"
    }
   ],
   "dockerImageVersionId": 30823,
   "isGpuEnabled": true,
   "isInternetEnabled": true,
   "language": "python",
   "sourceType": "notebook"
  },
  "kernelspec": {
   "display_name": "venv",
   "language": "python",
   "name": "python3"
  },
  "language_info": {
   "codemirror_mode": {
    "name": "ipython",
    "version": 3
   },
   "file_extension": ".py",
   "mimetype": "text/x-python",
   "name": "python",
   "nbconvert_exporter": "python",
   "pygments_lexer": "ipython3",
   "version": "3.12.3"
  }
 },
 "nbformat": 4,
 "nbformat_minor": 4
}
